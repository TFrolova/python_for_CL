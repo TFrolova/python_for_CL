{
 "cells": [
  {
   "cell_type": "code",
   "execution_count": null,
   "metadata": {},
   "outputs": [],
   "source": []
  },
  {
   "cell_type": "markdown",
   "metadata": {
    "colab_type": "text",
    "id": "ylixGHVOvAqB"
   },
   "source": [
    "## Classwork\n",
    "\n",
    "*Сделайте одну задачу на выбор. Выполнение больше одной приветствуется*"
   ]
  },
  {
   "cell_type": "markdown",
   "metadata": {
    "colab_type": "text",
    "id": "WbpgWXdHvgV8"
   },
   "source": [
    "**Задача 1.**  Напишите генератор названий компаний (почти как генератор паролей). \n",
    "Пусть в названии компании будет 6 частей, рандомно выбирающихся из списка names.\n",
    "\n",
    "Сделайте это функцией"
   ]
  },
  {
   "cell_type": "code",
   "execution_count": null,
   "metadata": {
    "colab": {
     "base_uri": "https://localhost:8080/",
     "height": 34
    },
    "colab_type": "code",
    "id": "lIwa6cOqvcTs",
    "outputId": "9ab23b6b-f4ce-4597-ec6c-88c3f1d29ff8"
   },
   "outputs": [],
   "source": [
    "# генератор названий компаний\n",
    "\n",
    "import random\n",
    "\n",
    "names = [\"пром\",\"агро\",\"торг\",\"урал\",\"север\",\"юг\",\"техно\",\n",
    "\"экспо\",\"метал\",\"нефть\",\"сельхоз\",\"фарм\",\"строй\",\n",
    "\"кредит\",\"алмаз\",\"-девелопмент\",\"развитие\",\"мос\",\n",
    "\"рос\",\"кубань\",\"сибирь\",\"восток\",\"нано\",\"софт\",\n",
    "\"микро\",\"онлайн\",\"инвест\",\"текстиль\",\"цемент\"]\n",
    "\n",
    "# Ваш код ниже\n",
    "\n"
   ]
  },
  {
   "cell_type": "markdown",
   "metadata": {},
   "source": [
    "**Задача 2.** Генератор паролей\n",
    "\n",
    "Пароли, получаемые в результате, должны удовлетворять следующим условиям: \n",
    "\n",
    "     - в пароле есть 3 заглавные буквы (любые, в любом месте пароля)\n",
    "     - в пароле есть 4 цифры (любые, в любом месте)\n",
    "     - оставшиеся символы пароля - строчные латинские буквы\n",
    "     \n",
    "Создайте функцию, которая генерирует пароли, пользователь задает число символов в пароле (как аргумент функции)"
   ]
  },
  {
   "cell_type": "code",
   "execution_count": null,
   "metadata": {
    "colab": {},
    "colab_type": "code",
    "id": "Mm3FYaIJ99GJ"
   },
   "outputs": [],
   "source": []
  }
 ],
 "metadata": {
  "kernelspec": {
   "display_name": "Python 3 (ipykernel)",
   "language": "python",
   "name": "python3"
  },
  "language_info": {
   "codemirror_mode": {
    "name": "ipython",
    "version": 3
   },
   "file_extension": ".py",
   "mimetype": "text/x-python",
   "name": "python",
   "nbconvert_exporter": "python",
   "pygments_lexer": "ipython3",
   "version": "3.10.0"
  }
 },
 "nbformat": 4,
 "nbformat_minor": 4
}
