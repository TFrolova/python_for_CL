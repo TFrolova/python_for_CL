{
 "cells": [
  {
   "cell_type": "markdown",
   "id": "d1c933ad-9f22-4881-b511-316a06b2d28c",
   "metadata": {},
   "source": [
    "## Работа с файлами, pandas + парсинг"
   ]
  },
  {
   "cell_type": "markdown",
   "id": "48fba6f4-7e82-4623-a85e-487a173967c9",
   "metadata": {},
   "source": [
    "Давайте соберем корпус эко-новостей с сайта новостного издания \"Ведомости\". \n",
    "\n",
    "[По этой ссылке можно найти главную страницу](https://www.vedomosti.ru/ecology?utm_source=vedomosti.ru%2Fgorod&utm_medium=main&utm_campaign=desktop_main\n",
    ")\n",
    "\n",
    "Что нам предстоит сделать:\n",
    "- достать все заголовки новостей в главной страницы + текст каждой новости\n",
    "- сохранить в датафрейм с колонками \"источник\",\"дата\",\"заголовок\",\"текст\"\n",
    "|source|date|title|text|\n",
    "|--|--|--|--|\n",
    "|https://www.vedomosti.ru/ecology/articles...|02 сентября, 01:30|ESG в переводе на русский|Российский бизнес массово...|\n",
    "\n",
    "- сохранить датафрейм в файл\n",
    "- положить код и получившийся файл в свой репозиторий на гитхабе\n",
    "\n"
   ]
  },
  {
   "cell_type": "code",
   "execution_count": null,
   "id": "7926e4e3-8359-41f6-8dfb-39b2c194d66a",
   "metadata": {},
   "outputs": [],
   "source": []
  }
 ],
 "metadata": {
  "kernelspec": {
   "display_name": "Python 3 (ipykernel)",
   "language": "python",
   "name": "python3"
  },
  "language_info": {
   "codemirror_mode": {
    "name": "ipython",
    "version": 3
   },
   "file_extension": ".py",
   "mimetype": "text/x-python",
   "name": "python",
   "nbconvert_exporter": "python",
   "pygments_lexer": "ipython3",
   "version": "3.10.0"
  }
 },
 "nbformat": 4,
 "nbformat_minor": 5
}
