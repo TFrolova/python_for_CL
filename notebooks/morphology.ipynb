{
 "cells": [
  {
   "cell_type": "markdown",
   "metadata": {
    "colab_type": "text",
    "id": "qUCeat3VZWY6"
   },
   "source": [
    "Сегодня мы поговорим о морфологических анализаторах для русского языка. Важно отметить, что (в основном) для каждого естественного языка нужен свой морфоанализатор.\n",
    "\n",
    "* шаг 1: установим пайморфи и майстем"
   ]
  },
  {
   "cell_type": "code",
   "execution_count": null,
   "metadata": {
    "colab": {
     "base_uri": "https://localhost:8080/",
     "height": 326
    },
    "colab_type": "code",
    "id": "tP2ugs4qYMIO",
    "outputId": "21a7fa9d-c127-43b8-9f60-2f804e38aa9d",
    "tags": []
   },
   "outputs": [],
   "source": [
    "# !pip3 install pymystem3\n",
    "# !pip3 install pymorphy2[fast]\n",
    "\n",
    "# ! pip3 install gensim"
   ]
  },
  {
   "cell_type": "code",
   "execution_count": 1,
   "metadata": {
    "colab": {
     "base_uri": "https://localhost:8080/",
     "height": 54
    },
    "colab_type": "code",
    "id": "K_EYd7mJanYb",
    "outputId": "41b8f3a1-b8fd-42e9-a8a5-020f05b952df"
   },
   "outputs": [],
   "source": [
    "# импортируем нужные части библиотек\n",
    "from pymorphy2 import MorphAnalyzer\n",
    "from pymystem3 import Mystem\n",
    "\n",
    "# сохраняем класс в переменную\n",
    "mystem = Mystem() \n",
    "morph = MorphAnalyzer() \n"
   ]
  },
  {
   "cell_type": "code",
   "execution_count": 2,
   "metadata": {
    "colab": {},
    "colab_type": "code",
    "id": "sAm6HB5hfS-A"
   },
   "outputs": [],
   "source": [
    "# сэмпл-текст, на котором все будем пробовать\n",
    "text = \"\"\"Зрелый фрукт на вкус очень сладок и обладает приятным сладковатым ароматом. В нём много витаминов и сахаров, но мало кислот.\"\"\""
   ]
  },
  {
   "cell_type": "markdown",
   "metadata": {
    "colab_type": "text",
    "id": "BBDkyu6kdeQO"
   },
   "source": [
    "## нормализация"
   ]
  },
  {
   "cell_type": "markdown",
   "metadata": {
    "colab_type": "text",
    "id": "YJ05gNGxkY4I"
   },
   "source": [
    "давайте приведем текст к нижнему регистру"
   ]
  },
  {
   "cell_type": "code",
   "execution_count": 3,
   "metadata": {
    "colab": {
     "base_uri": "https://localhost:8080/",
     "height": 54
    },
    "colab_type": "code",
    "id": "y1dUzBYcdiNk",
    "outputId": "0c1efc14-36f9-4361-b796-52a4aacf31f8"
   },
   "outputs": [
    {
     "data": {
      "text/plain": [
       "'зрелый фрукт на вкус очень сладок и обладает приятным сладковатым ароматом. в нём много витаминов и сахаров, но мало кислот.'"
      ]
     },
     "execution_count": 3,
     "metadata": {},
     "output_type": "execute_result"
    }
   ],
   "source": [
    "text = text.lower()\n",
    "text"
   ]
  },
  {
   "cell_type": "markdown",
   "metadata": {
    "colab_type": "text",
    "id": "hr9pnX59bD3Q"
   },
   "source": [
    "## токенизация"
   ]
  },
  {
   "cell_type": "markdown",
   "metadata": {
    "colab_type": "text",
    "id": "5evdBA7CkeRC"
   },
   "source": [
    "иногда текст нужно предварительно разбить на токены, отдельные элементы. Токенизаторов много, каждый делает это, руководствуясь своими правилами\n",
    "\n",
    "* токенизация нужна, если морофоанализатор не умеет токенизировать сам (Mystem умеет, Pymorphy не умеет)"
   ]
  },
  {
   "cell_type": "code",
   "execution_count": 4,
   "metadata": {
    "colab": {},
    "colab_type": "code",
    "id": "VTGeMdVzb1h9"
   },
   "outputs": [],
   "source": [
    "# два примера токенизации\n",
    "from nltk.tokenize import word_tokenize\n",
    "from gensim.utils import tokenize"
   ]
  },
  {
   "cell_type": "code",
   "execution_count": null,
   "metadata": {
    "tags": []
   },
   "outputs": [],
   "source": [
    "list(tokenize(text))"
   ]
  },
  {
   "cell_type": "code",
   "execution_count": null,
   "metadata": {},
   "outputs": [],
   "source": [
    "word_tokenize(text)"
   ]
  },
  {
   "cell_type": "markdown",
   "metadata": {
    "colab_type": "text",
    "id": "myoMhGgKjk1d"
   },
   "source": [
    "## лемматизация и морфоанализ"
   ]
  },
  {
   "cell_type": "markdown",
   "metadata": {
    "colab_type": "text",
    "id": "FK0Zwx3FSfug"
   },
   "source": [
    "### Mystem"
   ]
  },
  {
   "cell_type": "markdown",
   "metadata": {
    "colab_type": "text",
    "id": "Uei-SLNwSfuh"
   },
   "source": [
    "\n",
    "Майстем работает немного лучше и сам токенизирует,\n",
    "поэтому можно ему подавать сырой текст."
   ]
  },
  {
   "cell_type": "code",
   "execution_count": 5,
   "metadata": {
    "colab": {
     "base_uri": "https://localhost:8080/",
     "height": 88
    },
    "colab_type": "code",
    "id": "uDQbEwUaSfui",
    "outputId": "2397f16d-2559-40d5-dddc-e5dcb37bb524"
   },
   "outputs": [
    {
     "name": "stdout",
     "output_type": "stream",
     "text": [
      "зрелый фрукт на вкус очень сладок и обладает приятным сладковатым ароматом. в нём много витаминов и сахаров, но мало кислот. \n",
      "\n",
      "['зрелый', ' ', 'фрукт', ' ', 'на', ' ', 'вкус', ' ', 'очень', ' ', 'сладкий', ' ', 'и', ' ', 'обладать', ' ', 'приятный', ' ', 'сладковатый', ' ', 'аромат', '.', ' ', 'в', ' ', 'он', ' ', 'много', ' ', 'витамин', ' ', 'и', ' ', 'сахаров', ', ', 'но', ' ', 'мало', ' ', 'кислота', '.', '\\n']\n"
     ]
    }
   ],
   "source": [
    "# сначала лемматизируем слова методом .lemmatize()\n",
    "import string\n",
    "print(text, \"\\n\")\n",
    "\n",
    "print(mystem.lemmatize(text))\n"
   ]
  },
  {
   "cell_type": "code",
   "execution_count": 6,
   "metadata": {
    "colab": {},
    "colab_type": "code",
    "id": "4foA60oJSfur"
   },
   "outputs": [],
   "source": [
    "# метод .analyze() даст грамматическую информацию о словах\n",
    "\n",
    "ms_analyzed = mystem.analyze(text)\n",
    "\n",
    "print(ms_analyzed) # попробуйте разные индексы в этой переменной"
   ]
  },
  {
   "cell_type": "markdown",
   "metadata": {
    "colab_type": "text",
    "id": "I-AaAvpyLcsI"
   },
   "source": [
    "метод .analyze() возвращает список словарей\n",
    "\n",
    "\n",
    "каждый словарь имеет либо одно поле 'text' (когда попался пробел или пунктуация), либо analysis и text\n",
    "\n",
    "* в analysis снова список словарей с вариантами разбора (первый самый вероятный)\n",
    "* поля в analysis - 'gr' - грамматическая информация, 'lex' - лемма\n",
    "* analysis - может быть пустым списком"
   ]
  },
  {
   "cell_type": "code",
   "execution_count": 7,
   "metadata": {},
   "outputs": [
    {
     "name": "stdout",
     "output_type": "stream",
     "text": [
      "Слово из текста -  зрелый\n",
      "Разбор слова -  {'lex': 'зрелый', 'wt': 1, 'gr': 'A=(вин,ед,полн,муж,неод|им,ед,полн,муж)'}\n",
      "Лемма слова -  зрелый\n",
      "Грамматическая информация слова -  A=(вин,ед,полн,муж,неод|им,ед,полн,муж)\n"
     ]
    }
   ],
   "source": [
    "# сделаем все красиво с индексами и доступом по ключам\n",
    "# посмотрим на примере первого слова в тексте, поэтому индекс [0]\n",
    "\n",
    "\n",
    "print('Слово из текста - ',ms_analyzed[0]['text'])\n",
    "print('Разбор слова - ', ms_analyzed[0]['analysis'][0])\n",
    "print('Лемма слова - ', ms_analyzed[0]['analysis'][0]['lex'])\n",
    "print('Грамматическая информация слова - ', ms_analyzed[0]['analysis'][0]['gr'])\n"
   ]
  },
  {
   "cell_type": "code",
   "execution_count": null,
   "metadata": {
    "colab": {
     "base_uri": "https://localhost:8080/",
     "height": 85
    },
    "colab_type": "code",
    "id": "zbbCXnFbSfuw",
    "outputId": "cd7f46c2-9582-470f-a874-7156a090d98f",
    "tags": []
   },
   "outputs": [],
   "source": [
    "# такое же,  но циклом, для всех слов в тексте\n",
    "\n",
    "for idx,x in enumerate(ms_analyzed): # enumerate выдает элемент и его индекс\n",
    "\n",
    "    if x.get('analysis'): # если есть словарь с морфо-разбором\n",
    "        \n",
    "        print('Слово из текста - ',ms_analyzed[idx]['text']) # получаем элементы по индексам\n",
    "        print('Разбор слова - ', ms_analyzed[idx]['analysis'][0])\n",
    "        print('Лемма слова - ', ms_analyzed[idx]['analysis'][0]['lex'])\n",
    "        print('Грамматическая информация слова - ', ms_analyzed[idx]['analysis'][0]['gr'])\n",
    "        print(\"\\n\")\n",
    "    \n",
    "    else: continue\n",
    "    # если элемент без словаря с морфо-разбором, переходим к следующему элементу"
   ]
  },
  {
   "cell_type": "code",
   "execution_count": 8,
   "metadata": {
    "colab": {
     "base_uri": "https://localhost:8080/",
     "height": 187
    },
    "colab_type": "code",
    "id": "FHs_zUYySfuz",
    "outputId": "f5472fb6-d873-45a1-bc09-34d14eca00c6",
    "tags": []
   },
   "outputs": [
    {
     "data": {
      "text/plain": [
       "['зрелый',\n",
       " 'фрукт',\n",
       " 'на',\n",
       " 'вкус',\n",
       " 'очень',\n",
       " 'сладкий',\n",
       " 'и',\n",
       " 'обладать',\n",
       " 'приятный',\n",
       " 'сладковатый',\n",
       " 'аромат',\n",
       " 'в',\n",
       " 'он',\n",
       " 'много',\n",
       " 'витамин',\n",
       " 'и',\n",
       " 'сахаров',\n",
       " 'но',\n",
       " 'мало',\n",
       " 'кислота']"
      ]
     },
     "execution_count": 8,
     "metadata": {},
     "output_type": "execute_result"
    }
   ],
   "source": [
    "# леммы можно достать в одну строчку\n",
    "\n",
    "[elem['analysis'][0]['lex'] for elem in ms_analyzed if elem.get('analysis')]"
   ]
  },
  {
   "cell_type": "code",
   "execution_count": null,
   "metadata": {
    "colab": {},
    "colab_type": "code",
    "id": "G_9QmDvEi-2y",
    "tags": []
   },
   "outputs": [],
   "source": [
    "# то же самое, что в предыдущей ячейке, но циклом\n",
    "\n",
    "res = []\n",
    "\n",
    "for elem in ms_analyzed:\n",
    "    if elem.get('analysis'):\n",
    "        res.append(elem['analysis'][0]['lex'])\n",
    "\n",
    "res"
   ]
  },
  {
   "cell_type": "markdown",
   "metadata": {
    "colab_type": "text",
    "id": "prpnW0kWjtdg"
   },
   "source": [
    "#### дополнительные возможности Mystem"
   ]
  },
  {
   "cell_type": "markdown",
   "metadata": {
    "colab_type": "text",
    "id": "U8fThMyuSfu2"
   },
   "source": [
    "Mystem умеет разбивать текст на предложения, но через питоновский интерфейс это сделать не получится. Нужно скачать mystem отсюда - https://yandex.ru/dev/mystem/ и использовать в командной строке"
   ]
  },
  {
   "cell_type": "markdown",
   "metadata": {
    "colab_type": "text",
    "id": "iInXST2ASfvF"
   },
   "source": [
    "Недостатки Mystem: это продукт Яндекса с некоторыми ограничениями на использование, больше он не развивается."
   ]
  },
  {
   "cell_type": "markdown",
   "metadata": {
    "colab_type": "text",
    "id": "xmGbPTt9SfvH"
   },
   "source": [
    "### Pymorphy"
   ]
  },
  {
   "cell_type": "markdown",
   "metadata": {
    "colab_type": "text",
    "id": "AmEOXgExSfvK"
   },
   "source": [
    "Pymorphy - открытый и развивается ([можно поучаствовать на гитхабе](https://github.com/kmike/pymorphy2))\n",
    "\n",
    "\n",
    "* [документация pymorphy](https://pythonhosted.org/pymorphy/)"
   ]
  },
  {
   "cell_type": "markdown",
   "metadata": {
    "colab_type": "text",
    "id": "kacinkpvSfvL"
   },
   "source": [
    "У него нет встроенной токенизации и он расценивает всё как слово. Когда есть несколько вариантов, он выдает их с вероятностостями, которые расчитатны на корпусе со снятой неоднозначностью. Это лучше стемминга, но хуже майстема."
   ]
  },
  {
   "cell_type": "code",
   "execution_count": 9,
   "metadata": {
    "colab": {},
    "colab_type": "code",
    "id": "vLAH4hFGSfvM"
   },
   "outputs": [],
   "source": [
    "# основная функция - pymorphy.parse\n",
    "\n",
    "pm_analyzed = [morph.parse(token) for token in list(tokenize(text))]"
   ]
  },
  {
   "cell_type": "code",
   "execution_count": null,
   "metadata": {
    "colab": {},
    "colab_type": "code",
    "id": "Xczi9QqikC3w",
    "tags": []
   },
   "outputs": [],
   "source": [
    "pm_analyzed"
   ]
  },
  {
   "cell_type": "code",
   "execution_count": null,
   "metadata": {
    "colab": {
     "base_uri": "https://localhost:8080/",
     "height": 88
    },
    "colab_type": "code",
    "id": "7EmhCkUfSfvT",
    "outputId": "2bcfb5e1-05f5-4312-a988-88cec85b0806"
   },
   "outputs": [],
   "source": [
    "# пример с морфологической неоднозначностью\n",
    "\n",
    "morph.parse(\"сахаров\")"
   ]
  },
  {
   "cell_type": "markdown",
   "metadata": {
    "colab_type": "text",
    "id": "LpQ98mZtNf2w"
   },
   "source": [
    "Она похожа на analyze в майстеме только возвращает список объектов Parse\n",
    "* Первый в списке - самый вероятный разбор (у каждого есть score)\n",
    "* Информация достается через атрибут (Parse.word)\n",
    "* Грамматическая информация хранится в объекте OpencorporaTag и из него удобно доставать\n",
    "части речи или другие категории"
   ]
  },
  {
   "cell_type": "code",
   "execution_count": 11,
   "metadata": {
    "colab": {
     "base_uri": "https://localhost:8080/",
     "height": 173
    },
    "colab_type": "code",
    "id": "2MVvEeqmSfvX",
    "outputId": "cd878f2e-44ed-4c03-93f8-c44fca964d58"
   },
   "outputs": [
    {
     "name": "stdout",
     "output_type": "stream",
     "text": [
      "Первое слово -  зрелый\n",
      "Лемма первого слова -  зрелый\n",
      "Грамматическая информация первого слова -  ADJF,Qual masc,sing,nomn\n",
      "Часть речи первого слова -  ADJF\n",
      "Род первого слова -  masc\n",
      "Число первого слова -  sing\n",
      "Падеж первого слова -  nomn\n"
     ]
    }
   ],
   "source": [
    "# сделаем красиво\n",
    "print('Первое слово - ', pm_analyzed[0][0].word)\n",
    "print('Лемма первого слова - ', pm_analyzed[0][0].normal_form)\n",
    "print('Грамматическая информация первого слова - ', pm_analyzed[0][0].tag)\n",
    "print('Часть речи первого слова - ', pm_analyzed[0][0].tag.POS)\n",
    "print('Род первого слова - ', pm_analyzed[0][0].tag.gender)\n",
    "print('Число первого слова - ',pm_analyzed[0][0].tag.number)\n",
    "print('Падеж первого слова - ', pm_analyzed[0][0].tag.case)"
   ]
  },
  {
   "cell_type": "code",
   "execution_count": null,
   "metadata": {
    "tags": []
   },
   "outputs": [],
   "source": [
    "# такое же,  но циклом, для всех слов в тексте\n",
    "\n",
    "for idx,x in enumerate(pm_analyzed): # enumerate выдает элемент и его индекс\n",
    "\n",
    "    print('Первое слово - ', pm_analyzed[idx][0].word)\n",
    "    print('Лемма первого слова - ', pm_analyzed[idx][0].normal_form)\n",
    "    print('Грамматическая информация первого слова - ', pm_analyzed[idx][0].tag)\n",
    "    print('Часть речи первого слова - ', pm_analyzed[idx][0].tag.POS)\n",
    "    print('Род первого слова - ', pm_analyzed[idx][0].tag.gender)\n",
    "    print('Число первого слова - ',pm_analyzed[idx][0].tag.number)\n",
    "    print('Падеж первого слова - ', pm_analyzed[idx][0].tag.case)\n",
    "    print(\"\\n\")\n",
    "    "
   ]
  },
  {
   "cell_type": "markdown",
   "metadata": {
    "colab_type": "text",
    "id": "lY4sSWT-UCE7"
   },
   "source": [
    "### что можно дальше"
   ]
  },
  {
   "cell_type": "markdown",
   "metadata": {
    "colab_type": "text",
    "id": "HRYDeot6UKym"
   },
   "source": [
    "Pymorphy и Mystem - не единственные морфоанализаторы для русского языка. Можно, например, посмотреть на [RNNmorph](https://github.com/IlyaGusev/rnnmorph) и [deeppavlov](http://docs.deeppavlov.ai/en/master/features/models/morphotagger.html).\n",
    "\n",
    "А еще есть исследование, где сравнивали морфоанализаторы для русского  ([краткая версия](http://web-corpora.net/wsgi/mystemplus.wsgi/mystemplus/compare_table/), [статья](http://www.dialog-21.ru/media/3473/dereza.pdf))\n",
    "\n",
    " \n",
    "И на последок, морфо-анализаторы для других яззыков:\n",
    "- [UralicNLP](https://github.com/mikahama/uralicNLP)\n",
    "- [hfst от Apertium](https://wiki.apertium.org/wiki/Hfst)\n",
    "- [Stanza](https://stanfordnlp.github.io/stanza/)\n",
    "- [SpaCy](https://spacy.io/usage/linguistic-features#morphology)\n",
    "- [Trankit](https://trankit.readthedocs.io/en/latest/posdep.html)"
   ]
  },
  {
   "cell_type": "code",
   "execution_count": null,
   "metadata": {},
   "outputs": [],
   "source": []
  }
 ],
 "metadata": {
  "colab": {
   "collapsed_sections": [
    "prpnW0kWjtdg"
   ],
   "include_colab_link": true,
   "name": "morphology.ipynb",
   "provenance": []
  },
  "kernelspec": {
   "display_name": "Python 3 (ipykernel)",
   "language": "python",
   "name": "python3"
  },
  "language_info": {
   "codemirror_mode": {
    "name": "ipython",
    "version": 3
   },
   "file_extension": ".py",
   "mimetype": "text/x-python",
   "name": "python",
   "nbconvert_exporter": "python",
   "pygments_lexer": "ipython3",
   "version": "3.10.0"
  }
 },
 "nbformat": 4,
 "nbformat_minor": 4
}
