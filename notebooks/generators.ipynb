{
 "cells": [
  {
   "cell_type": "markdown",
   "metadata": {
    "colab_type": "text",
    "id": "Yhw8-87X8s-J",
    "tags": []
   },
   "source": [
    "## генераторы"
   ]
  },
  {
   "cell_type": "markdown",
   "metadata": {
    "colab_type": "text",
    "id": "LOYUfNvgLoWa"
   },
   "source": [
    "**вспомним из предыдущих занятий:** когда мы создаём список, мы можем брать его элементы один за другим — это называется *итерацией*:"
   ]
  },
  {
   "cell_type": "code",
   "execution_count": null,
   "metadata": {
    "colab": {
     "base_uri": "https://localhost:8080/",
     "height": 68
    },
    "colab_type": "code",
    "id": "W2vnkjMhMAXy",
    "outputId": "d37031b0-0c17-4139-997c-29bacb8859bc"
   },
   "outputs": [],
   "source": [
    "test1 = [1, 2, 3]\n",
    "for i in test1 :\n",
    "    print(i)\n"
   ]
  },
  {
   "cell_type": "markdown",
   "metadata": {
    "colab_type": "text",
    "id": "DULLPnQsOdzE"
   },
   "source": [
    "это же можно сделать, создав генератор функцией ```range()```: \n",
    "\n",
    "    у функции три аргумента: (начало,конец,шаг), конечный элемент не включается. \n",
    "    \n",
    "    Сейчас мы записали без шага, поэтому он по дефолту =1. "
   ]
  },
  {
   "cell_type": "code",
   "execution_count": null,
   "metadata": {
    "colab": {
     "base_uri": "https://localhost:8080/",
     "height": 85
    },
    "colab_type": "code",
    "id": "rZSDKVCcOiua",
    "outputId": "0a44a4fe-2cd4-4484-c02c-b94bb8cf04ee"
   },
   "outputs": [],
   "source": [
    "test2 = range(1,4) \n",
    "for i in test2 :\n",
    "    print(i)\n",
    "type(test2)\n"
   ]
  },
  {
   "cell_type": "code",
   "execution_count": null,
   "metadata": {
    "colab": {
     "base_uri": "https://localhost:8080/",
     "height": 119
    },
    "colab_type": "code",
    "id": "5cDhW-64PyGw",
    "outputId": "b797b124-222c-4e76-8640-eaa14b363750"
   },
   "outputs": [],
   "source": [
    "# давайте зададим шаг\n",
    "\n",
    "test3 = range (1,10,2) # от 1 до 10 с шагом в 2\n",
    "for i in test3 :\n",
    "    print(i)\n",
    "type(test3)"
   ]
  },
  {
   "cell_type": "markdown",
   "metadata": {
    "colab_type": "text",
    "id": "g5WIfV1babNL"
   },
   "source": [
    "Заметим, что в предыдущих ячейках переменные test2  и test3 не были листами, в отличие от test1\n",
    "\n",
    "тип объектов test2 и test3 - это генератор.\n",
    "\n",
    "Но мы можем превратить генератор в нужный тип: лист, множество или (даже!) строку"
   ]
  },
  {
   "cell_type": "code",
   "execution_count": null,
   "metadata": {
    "colab": {
     "base_uri": "https://localhost:8080/",
     "height": 153
    },
    "colab_type": "code",
    "id": "el_UbysU8vCb",
    "outputId": "69a33e80-fb16-4706-8cd4-0c379cde6fbb"
   },
   "outputs": [],
   "source": [
    "new1 = range(0,20,5) # генератор, от нуля до 20 с шагом 5\n",
    "for i in new1:\n",
    "    print(i)\n",
    "\n",
    "print(\"сначала new1 - это\",type(new1)) # проверяем тип\n",
    "\n",
    "new1 = list(new1) # превращаем в лист\n",
    "print(\"теперь new1 - это\",type(new1), new1) # проверяем тип"
   ]
  },
  {
   "cell_type": "code",
   "execution_count": null,
   "metadata": {},
   "outputs": [],
   "source": [
    "# превратим во множество\n",
    "new1 = range(0,20,5)\n",
    "new1 = set(new1)\n",
    "print(\"затем new1 - это\",type(new1), new1) # проверяем тип"
   ]
  },
  {
   "cell_type": "code",
   "execution_count": null,
   "metadata": {
    "colab": {
     "base_uri": "https://localhost:8080/",
     "height": 85
    },
    "colab_type": "code",
    "id": "sC20y9iaB11n",
    "outputId": "fa8f110a-28fe-4991-c8a4-569e2710ed5f"
   },
   "outputs": [],
   "source": [
    "# классический способ использовать генератор\n",
    "for i in range(100): #чтобы не писать 100 значений вручную\n",
    "    if i%30 == 0:\n",
    "        print (i, \"делится на 30 без остатка\")"
   ]
  },
  {
   "cell_type": "code",
   "execution_count": null,
   "metadata": {
    "colab": {
     "base_uri": "https://localhost:8080/",
     "height": 34
    },
    "colab_type": "code",
    "id": "NgBAUfDRjlh8",
    "outputId": "ee80ad4b-394a-4155-b5bf-03fe091cf3f8"
   },
   "outputs": [],
   "source": [
    "# генератор паролей\n",
    "\n",
    "import random\n",
    "passw = '' # предварительно создаем переменную для пароля, с типом \"строка\"\n",
    "\n",
    "#пусть в ней будет 12 символов: цифры и латинские буквы двух регистров\n",
    "\n",
    "for x in range(12): \n",
    "    passw = passw + random.choice('123456789qwertyuiopasdfghjklzxcvbnmQWERTYUIOPASDFGHJKLZXCVBNM')\n",
    "    # на каждом из 12 шагов выбираем рандомный символ из списка с букво-цифрами и добавляем в строку\n",
    "print(passw)\n",
    "\n",
    "# запустите ячейку несклько раз: пароли меняются"
   ]
  },
  {
   "cell_type": "markdown",
   "metadata": {
    "colab_type": "text",
    "id": "5C1viYNBKBxc"
   },
   "source": [
    "**подводя итог:**\n",
    "\n",
    "генераторы обычно используются, когда:\n",
    "* нужно создать объект из большого количества элементов (чтобы не задавать их вручную)\n",
    "* надо единожды пройтись по итерируемому объекту\n",
    "* есть потребность использовать \"шаги\" для повторения операции с элементами некоторого контецнера (списка, множества и тд)\n",
    "\n",
    "их особое свойство:\n",
    "- они сохраняют свое состояние между итерациями, но по ним можно итерироваться всего один раз\n",
    "\n",
    "- хранят только предыдущий элемент, предел и формулу, по которой вычисляется следующий элемент\n",
    "\n",
    "(подробнее о генераторах можно почитать [здесь](https://realpython.com/introduction-to-python-generators/). [И здесь](https://www.geeksforgeeks.org/use-yield-keyword-instead-return-keyword-python/))\n"
   ]
  },
  {
   "cell_type": "code",
   "execution_count": null,
   "metadata": {
    "colab": {},
    "colab_type": "code",
    "id": "Mm3FYaIJ99GJ"
   },
   "outputs": [],
   "source": []
  }
 ],
 "metadata": {
  "kernelspec": {
   "display_name": "Python 3",
   "language": "python",
   "name": "python3"
  },
  "language_info": {
   "codemirror_mode": {
    "name": "ipython",
    "version": 3
   },
   "file_extension": ".py",
   "mimetype": "text/x-python",
   "name": "python",
   "nbconvert_exporter": "python",
   "pygments_lexer": "ipython3",
   "version": "3.8.2"
  }
 },
 "nbformat": 4,
 "nbformat_minor": 4
}
