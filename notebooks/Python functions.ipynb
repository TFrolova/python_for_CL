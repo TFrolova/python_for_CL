{
 "cells": [
  {
   "cell_type": "markdown",
   "metadata": {
    "tags": []
   },
   "source": [
    "## Функции\n",
    "\n",
    "\n",
    "Мы с вами написали много небольших программ. А что если вам нужно будет использовать эти программы снова и снова? Например, вы написали код, который хорошо обрабатывает и токенизирует текст. И у вас 1000 текстов. Придется писать одни и те же строки кода снова?\n",
    "\n",
    "\n",
    "<img data-image-id=\"1*ZUSN2Xhq7MsEMjCvNOy-Zw.jpeg\" data-width=\"640\" data-height=\"480\" src=\"https://hackernoon.com/hn-images/1*ZUSN2Xhq7MsEMjCvNOy-Zw.jpeg\">\n"
   ]
  },
  {
   "cell_type": "markdown",
   "metadata": {
    "colab_type": "text",
    "id": "6kMhXS8lKSam"
   },
   "source": [
    "нас спасут функции! \n",
    "\n",
    "Функция в python - это такой объект, который выполняет какое-то действие c данными, которые она принимает на вход.\n",
    "\n",
    "- То, что функция принимает, называется *аргументом* и записывается в скобках. У функции может быть как один, ноль или несколько аргументов.\n",
    "\n",
    "- То, что функция возвращает, называется *значением*.\n",
    "\n",
    "\n",
    "Обычно функция определяется с помощью инструкции ```def```, за которым следует название функции со скобками и двоеточием.  \n",
    "\n",
    "Давайте создадим самую простую функцию:"
   ]
  },
  {
   "cell_type": "code",
   "execution_count": 3,
   "metadata": {
    "colab": {},
    "colab_type": "code",
    "id": "L2cPPSNm8xaw"
   },
   "outputs": [],
   "source": [
    "def hello():\n",
    "\n",
    "    print (\"hello =^_^=\")"
   ]
  },
  {
   "cell_type": "code",
   "execution_count": 4,
   "metadata": {
    "colab": {
     "base_uri": "https://localhost:8080/",
     "height": 34
    },
    "colab_type": "code",
    "id": "nOu2GAWXN9b1",
    "outputId": "9982f7b3-141d-47c7-93c2-c3b0c6e79e93"
   },
   "outputs": [
    {
     "name": "stdout",
     "output_type": "stream",
     "text": [
      "hello =^_^=\n"
     ]
    }
   ],
   "source": [
    "hello() # чтобы функция cработала, ее надо вызвать"
   ]
  },
  {
   "cell_type": "code",
   "execution_count": 5,
   "metadata": {
    "colab": {},
    "colab_type": "code",
    "id": "4bNVEzUnOFPZ"
   },
   "outputs": [],
   "source": [
    "#  усложним функцию\n",
    "\n",
    "def personal_hello():\n",
    "    name = input(\"Как Вас зовут?\")\n",
    "    print (\"Добрый день,\", name)\n"
   ]
  },
  {
   "cell_type": "code",
   "execution_count": 6,
   "metadata": {
    "colab": {
     "base_uri": "https://localhost:8080/",
     "height": 51
    },
    "colab_type": "code",
    "id": "hrzq20zGOxX9",
    "outputId": "e63cdbd7-ef8d-4f46-985e-4da9cdf06550"
   },
   "outputs": [
    {
     "name": "stdin",
     "output_type": "stream",
     "text": [
      "Как Вас зовут? N\n"
     ]
    },
    {
     "name": "stdout",
     "output_type": "stream",
     "text": [
      "Добрый день, N\n"
     ]
    }
   ],
   "source": [
    "personal_hello()"
   ]
  },
  {
   "cell_type": "markdown",
   "metadata": {},
   "source": [
    "Можно написать функцию так, чтобы она не только совершала действие, но и возвращала некоторый результат. Понадобится ключевое слово ```return```"
   ]
  },
  {
   "cell_type": "code",
   "execution_count": 7,
   "metadata": {
    "colab": {},
    "colab_type": "code",
    "id": "3nt1yPVfOz6E"
   },
   "outputs": [],
   "source": [
    "# функция с возвратом значения\n",
    "\n",
    "def add(x,y):\n",
    "    res = x+y\n",
    "    return res"
   ]
  },
  {
   "cell_type": "code",
   "execution_count": 16,
   "metadata": {
    "colab": {
     "base_uri": "https://localhost:8080/",
     "height": 34
    },
    "colab_type": "code",
    "id": "Mi1_v9yKPNHu",
    "outputId": "8c4be812-afc5-47a5-8e16-da580cde1ae8"
   },
   "outputs": [
    {
     "data": {
      "text/plain": [
       "'hi'"
      ]
     },
     "execution_count": 16,
     "metadata": {},
     "output_type": "execute_result"
    }
   ],
   "source": [
    "add(\"h\",\"i\") # так мы вызвали функцию и передали аргументы в скобках"
   ]
  },
  {
   "cell_type": "code",
   "execution_count": 17,
   "metadata": {},
   "outputs": [
    {
     "data": {
      "text/plain": [
       "8.6"
      ]
     },
     "execution_count": 17,
     "metadata": {},
     "output_type": "execute_result"
    }
   ],
   "source": [
    "add(0.6,8) "
   ]
  },
  {
   "cell_type": "markdown",
   "metadata": {},
   "source": [
    "а вот пример работы с текстом"
   ]
  },
  {
   "cell_type": "code",
   "execution_count": 18,
   "metadata": {
    "colab": {},
    "colab_type": "code",
    "id": "HbIrUegGQj5M"
   },
   "outputs": [],
   "source": [
    "def unique(x): # простая функция, выдающая уникальный набор элементов в объекте\n",
    "    x = set(x)\n",
    "    return x"
   ]
  },
  {
   "cell_type": "code",
   "execution_count": 20,
   "metadata": {},
   "outputs": [
    {
     "data": {
      "text/plain": [
       "{'e', 'h', 'l', 'o'}"
      ]
     },
     "execution_count": 20,
     "metadata": {},
     "output_type": "execute_result"
    }
   ],
   "source": [
    "unique(\"hello\")"
   ]
  },
  {
   "cell_type": "code",
   "execution_count": 24,
   "metadata": {
    "colab": {
     "base_uri": "https://localhost:8080/",
     "height": 34
    },
    "colab_type": "code",
    "id": "RO-7hY7dRlF3",
    "outputId": "f0cfd290-d844-489a-f8e1-2a3c536e6f27"
   },
   "outputs": [
    {
     "name": "stdout",
     "output_type": "stream",
     "text": [
      "{'n', '.', 'w', 's', 'o', 'a', 'T', ' ', 'h', 'R', 'd', 'l', 'i', 'y', 'e', 'r'}\n"
     ]
    },
    {
     "data": {
      "text/plain": [
       "{'a', 'always', 'and', 'is', 'rose', 'the', 'was'}"
      ]
     },
     "execution_count": 24,
     "metadata": {},
     "output_type": "execute_result"
    }
   ],
   "source": [
    "poem  = \"The Rose is a rose and was always a rose.\"\n",
    "\n",
    "print(unique(poem))\n",
    "\n",
    "poem = poem.strip(\".-:!?–,\").lower().split() #предобратобка\n",
    "\n",
    "unique(poem) # множество уникальных токенов "
   ]
  },
  {
   "cell_type": "code",
   "execution_count": 37,
   "metadata": {
    "colab": {},
    "colab_type": "code",
    "id": "FUN_ywNqU-Cl"
   },
   "outputs": [],
   "source": [
    "# функция, убирающая пунктуацию\n",
    "\n",
    "import string\n",
    "\n",
    "def normalize(text):\n",
    "    normalized = text.lower().translate(str.maketrans('','',string.punctuation)).split()\n",
    "    return normalized"
   ]
  },
  {
   "cell_type": "code",
   "execution_count": 39,
   "metadata": {
    "colab": {
     "base_uri": "https://localhost:8080/",
     "height": 697
    },
    "colab_type": "code",
    "id": "TZ5Zkha9c0uk",
    "outputId": "db5692da-7a61-4048-cd0c-d274ee07e7c0"
   },
   "outputs": [
    {
     "name": "stdout",
     "output_type": "stream",
     "text": [
      "['i', 'had', 'heard', 'that', 'mcdonalds', 'never', 'decompose', 'so', 'i', 'just', 'wanted', 'to', 'see', 'if', 'it', 'was', 'true', 'or', 'not', 'hjortur', 'smarason', 'told', 'afp', 'this', 'week', 'its', '10', 'years', 'since', 'the', 'seemingly', 'indestructible', 'meal', 'was', 'purchased', 'and', 'it', 'barely', 'looks', 'a', 'day', 'older']\n"
     ]
    }
   ],
   "source": [
    "# попробуем на тексте: \n",
    "\n",
    "news = \"\"\" \"\\I had heard that McDonald\\'s never decompose so I just wanted to see if it was true or not,\\\" Hjortur Smarason told AFP. This week, it's 10 years since the seemingly indestructible meal was purchased, and it barely looks a day older.\"\"\"\n",
    "\n",
    "print(normalize(news))"
   ]
  },
  {
   "cell_type": "markdown",
   "metadata": {
    "colab_type": "text",
    "id": "kt9JszRTgh4-"
   },
   "source": [
    "### Аргументы функции\n",
    "Функция может принимать произвольное количество аргументов (или не принимать вообще). \n",
    "\n",
    "Существуют функции с произвольным числом аргументов, функции с позиционными и именованными аргументами, обязательными и необязательными.\n",
    "\n",
    "давайте разбираться\n",
    "\n",
    "1. позиционные и именованные аргументы"
   ]
  },
  {
   "cell_type": "code",
   "execution_count": 40,
   "metadata": {
    "colab": {},
    "colab_type": "code",
    "id": "dVnd5e7Ge_M4"
   },
   "outputs": [],
   "source": [
    "def birthday1(name, age):\n",
    "    print( \"С днем рождения , \", name , \"!\", \" Вам сегодня исполняется\", age)"
   ]
  },
  {
   "cell_type": "markdown",
   "metadata": {
    "colab_type": "text",
    "id": "X9CQVWnpoGzF"
   },
   "source": [
    "**позиционные аргументы**\n",
    "\n",
    "важен порядок ввода"
   ]
  },
  {
   "cell_type": "code",
   "execution_count": 41,
   "metadata": {
    "colab": {
     "base_uri": "https://localhost:8080/",
     "height": 34
    },
    "colab_type": "code",
    "id": "kdwjGqLQmduF",
    "outputId": "c9abcb8e-afa2-4319-af28-b54f0609ef74"
   },
   "outputs": [
    {
     "name": "stdout",
     "output_type": "stream",
     "text": [
      "С днем рождения ,  дорогой друг !  Вам сегодня исполняется 1\n"
     ]
    }
   ],
   "source": [
    "birthday1(\"дорогой друг\" , 1)"
   ]
  },
  {
   "cell_type": "code",
   "execution_count": 42,
   "metadata": {
    "colab": {
     "base_uri": "https://localhost:8080/",
     "height": 34
    },
    "colab_type": "code",
    "id": "igl8L9MvnmLk",
    "outputId": "0b4c9313-9be7-43a7-bd9f-3e0816fb51d9"
   },
   "outputs": [
    {
     "name": "stdout",
     "output_type": "stream",
     "text": [
      "С днем рождения ,  1 !  Вам сегодня исполняется дорогой друг\n"
     ]
    }
   ],
   "source": [
    "#    Проблема позиционных аргументов\n",
    "\n",
    "birthday1(1, \"дорогой друг\")"
   ]
  },
  {
   "cell_type": "markdown",
   "metadata": {
    "colab_type": "text",
    "id": "o-xxHvGSn3a4"
   },
   "source": [
    "**именные аргументы**\n",
    "\n",
    "Вне зависимости от порядка, все хорошо."
   ]
  },
  {
   "cell_type": "code",
   "execution_count": 43,
   "metadata": {
    "colab": {
     "base_uri": "https://localhost:8080/",
     "height": 34
    },
    "colab_type": "code",
    "id": "atGOHsObmoGy",
    "outputId": "dee6d4c3-cd25-4d78-a352-c23811cc568c"
   },
   "outputs": [
    {
     "name": "stdout",
     "output_type": "stream",
     "text": [
      "С днем рождения ,  дорогой друг !  Вам сегодня исполняется 1\n"
     ]
    }
   ],
   "source": [
    "birthday1(name = \"дорогой друг\", age = 1) "
   ]
  },
  {
   "cell_type": "code",
   "execution_count": 46,
   "metadata": {
    "colab": {
     "base_uri": "https://localhost:8080/",
     "height": 34
    },
    "colab_type": "code",
    "id": "oHbEHLVKmxnw",
    "outputId": "a7642b6d-14ef-4920-c914-ae0e1720047d"
   },
   "outputs": [
    {
     "name": "stdout",
     "output_type": "stream",
     "text": [
      "С днем рождения ,  Настя !  Вам сегодня исполняется 270\n"
     ]
    }
   ],
   "source": [
    "birthday1(age = 270, name = \"Настя\")"
   ]
  },
  {
   "cell_type": "markdown",
   "metadata": {
    "colab_type": "text",
    "id": "Kjx2bycnsi9p"
   },
   "source": [
    "### бонус: lambda func"
   ]
  },
  {
   "cell_type": "markdown",
   "metadata": {
    "colab_type": "text",
    "id": "-AjT1BdWsvvx"
   },
   "source": [
    "Анонимные функции:\n",
    "* могут содержать лишь одно действие\n",
    "* выполняются быстрее\n",
    "* не обязательно присваивать переменной (не нужен def)\n",
    "* не требуется return\n",
    "\n",
    "\n",
    "обычно используются для одноразовых функций \n",
    "\n",
    "создаются с помощью ключевого слова ```lambda```"
   ]
  },
  {
   "cell_type": "code",
   "execution_count": 47,
   "metadata": {
    "colab": {},
    "colab_type": "code",
    "id": "tQoxZXdPsWFc"
   },
   "outputs": [],
   "source": [
    "lambda x, y: x + y  # задали (до двоеточия аргументы, после - действие с ними)"
   ]
  },
  {
   "cell_type": "code",
   "execution_count": null,
   "metadata": {},
   "outputs": [],
   "source": [
    "func = lambda x, y: x + y #так можно сохранить в переменную"
   ]
  },
  {
   "cell_type": "code",
   "execution_count": 50,
   "metadata": {
    "colab": {
     "base_uri": "https://localhost:8080/",
     "height": 34
    },
    "colab_type": "code",
    "id": "XKyQxTNVtTML",
    "outputId": "7796ece3-5ad5-48c3-cc34-bad7991aea0f"
   },
   "outputs": [
    {
     "data": {
      "text/plain": [
       "11"
      ]
     },
     "execution_count": 50,
     "metadata": {},
     "output_type": "execute_result"
    }
   ],
   "source": [
    "func(4, 7) # вызываем, подав аргументы"
   ]
  },
  {
   "cell_type": "code",
   "execution_count": 51,
   "metadata": {
    "colab": {
     "base_uri": "https://localhost:8080/",
     "height": 34
    },
    "colab_type": "code",
    "id": "vOoz51D-tgTP",
    "outputId": "e1c067e5-90ea-4143-c293-9a58046ed895"
   },
   "outputs": [
    {
     "data": {
      "text/plain": [
       "'i write code in Python'"
      ]
     },
     "execution_count": 51,
     "metadata": {},
     "output_type": "execute_result"
    }
   ],
   "source": [
    "func(\"i write\",\" code in Python\") # подаем строки как аргументы, их тоже можно конкатенировать"
   ]
  },
  {
   "cell_type": "code",
   "execution_count": null,
   "metadata": {},
   "outputs": [],
   "source": []
  }
 ],
 "metadata": {
  "colab": {
   "collapsed_sections": [],
   "include_colab_link": true,
   "name": "Sat_02Nov_19.ipynb",
   "provenance": []
  },
  "kernelspec": {
   "display_name": "Python 3",
   "language": "python",
   "name": "python3"
  },
  "language_info": {
   "codemirror_mode": {
    "name": "ipython",
    "version": 3
   },
   "file_extension": ".py",
   "mimetype": "text/x-python",
   "name": "python",
   "nbconvert_exporter": "python",
   "pygments_lexer": "ipython3",
   "version": "3.8.2"
  }
 },
 "nbformat": 4,
 "nbformat_minor": 4
}
