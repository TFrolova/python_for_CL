{
 "cells": [
  {
   "cell_type": "markdown",
   "metadata": {
    "id": "h2WP2htLsYNv"
   },
   "source": [
    "Сегодня мы поговорим о том, как доставать из сырого текста связи между объектами"
   ]
  },
  {
   "cell_type": "markdown",
   "metadata": {
    "id": "vTI-BoOUlB59"
   },
   "source": [
    "## предустановка всего необходимого"
   ]
  },
  {
   "cell_type": "code",
   "execution_count": null,
   "metadata": {
    "id": "N6lC30j_oulm",
    "tags": []
   },
   "outputs": [],
   "source": [
    "# поставим Spacy, оттуда будем загружать модели NER\n",
    "# ! pip3 install -U spacy==2.1.0\n",
    "\n",
    "!pip3 install spacy\n",
    "!python3 -m spacy download en\n",
    "! pip3 install tqdm"
   ]
  },
  {
   "cell_type": "code",
   "execution_count": 1,
   "metadata": {
    "colab": {
     "base_uri": "https://localhost:8080/"
    },
    "id": "bxQEXhY9pR5y",
    "outputId": "b0120138-0aaf-4589-e2e0-03cf61b86ca2"
   },
   "outputs": [],
   "source": [
    "# сделаем еще импорты нужных библиотек\n",
    "\n",
    "from tqdm.notebook import tqdm # визуализация прогресс-баров\n",
    "\n",
    "import re # регулярки\n",
    "from spacy.lang.en import English\n",
    "\n",
    "# для датафреймов\n",
    "import pandas as pd\n",
    "import numpy as np\n",
    "\n",
    "# визуализации\n",
    "%matplotlib inline\n",
    "\n",
    "# импортируем Spacy и нужные части оттуда\n",
    "import spacy\n",
    "from spacy import displacy\n",
    "\n",
    "\n",
    "nlp = spacy.load(\"en_core_web_sm\") # загрузили обученную ML-модель\n",
    "\n"
   ]
  },
  {
   "cell_type": "markdown",
   "metadata": {
    "id": "42TAplQHmfgd"
   },
   "source": [
    "## Шаг 1: из сырого текста вытащим упоминание сущностей\n",
    "*(такая задача называется Named Entity Recognition  или NER)*"
   ]
  },
  {
   "cell_type": "code",
   "execution_count": 98,
   "metadata": {
    "colab": {
     "base_uri": "https://localhost:8080/",
     "height": 86
    },
    "id": "LPqvsPvDmy92",
    "outputId": "bb790424-f5c4-4138-ab2e-cdd7ba04cd06",
    "tags": []
   },
   "outputs": [
    {
     "data": {
      "text/html": [
       "<span class=\"tex2jax_ignore\"><div class=\"entities\" style=\"line-height: 2.5; direction: ltr\">I ate \n",
       "<mark class=\"entity\" style=\"background: #e4e7d2; padding: 0.45em 0.6em; margin: 0 0.25em; line-height: 1; border-radius: 0.35em;\">\n",
       "    two\n",
       "    <span style=\"font-size: 0.8em; font-weight: bold; line-height: 1; border-radius: 0.35em; vertical-align: middle; margin-left: 0.5rem\">CARDINAL</span>\n",
       "</mark>\n",
       " bars of 'Mars', then 'Bounty' and Milky Way</div></span>"
      ],
      "text/plain": [
       "<IPython.core.display.HTML object>"
      ]
     },
     "metadata": {},
     "output_type": "display_data"
    },
    {
     "data": {
      "text/plain": [
       "(two,)"
      ]
     },
     "execution_count": 98,
     "metadata": {},
     "output_type": "execute_result"
    }
   ],
   "source": [
    "# text = \"When Sebastian Thrun started working on self-driving cars at Google in 2007,\\\n",
    "#  few people outside of the company took him seriously.\"\n",
    "\n",
    "text = \"I ate two bars of 'Mars', then 'Bounty' and Milky Way\"\n",
    "# print(type(text))\n",
    "\n",
    "doc = nlp(text) # обрабатываем текст\n",
    "\n",
    "# print(type(doc))\n",
    "\n",
    "displacy.render(doc, style = \"ent\", jupyter = True) # style = \"dep\" for dependencies\n",
    "\n",
    "doc.ents"
   ]
  },
  {
   "cell_type": "code",
   "execution_count": null,
   "metadata": {},
   "outputs": [],
   "source": []
  },
  {
   "cell_type": "code",
   "execution_count": 20,
   "metadata": {},
   "outputs": [
    {
     "data": {
      "text/plain": [
       "2007"
      ]
     },
     "execution_count": 20,
     "metadata": {},
     "output_type": "execute_result"
    }
   ],
   "source": [
    "doc.ents[-1]"
   ]
  },
  {
   "cell_type": "markdown",
   "metadata": {
    "id": "sW3H3fIOw9IL"
   },
   "source": [
    "[здесь подробнее про  параметры визуализации](https://spacy.io/usage/visualizers)"
   ]
  },
  {
   "cell_type": "code",
   "execution_count": null,
   "metadata": {
    "colab": {
     "base_uri": "https://localhost:8080/"
    },
    "id": "9_icbfR_dsJt",
    "outputId": "debb6080-bfa0-44fc-d1f7-b8ed788ee429"
   },
   "outputs": [],
   "source": [
    "# посмотрим на список сущностей в документе\n",
    "doc.ents"
   ]
  },
  {
   "cell_type": "markdown",
   "metadata": {
    "id": "gpqI0K8cxAJ9"
   },
   "source": [
    "## экспериментальная часть: попробуем на большом датасете\n",
    "\n",
    "*(давайте его подготовим)*"
   ]
  },
  {
   "cell_type": "code",
   "execution_count": null,
   "metadata": {
    "id": "iyLS8GE8zDci"
   },
   "outputs": [],
   "source": [
    "# !unzip elonmusk.csv.zip # запустите ячейку если загружаете файл в заархивированном виде"
   ]
  },
  {
   "cell_type": "code",
   "execution_count": 40,
   "metadata": {
    "id": "bVU-OLAPv7ni"
   },
   "outputs": [],
   "source": [
    "# откроем датафрейм\n",
    "\n",
    "df = pd.read_csv(\"/Users/nstsj/python_for_CL/data/Twitter- Oscars(2).csv\", encoding=\"latin-1\")"
   ]
  },
  {
   "cell_type": "code",
   "execution_count": 46,
   "metadata": {
    "colab": {
     "base_uri": "https://localhost:8080/",
     "height": 341
    },
    "id": "9K9zITIlyus4",
    "outputId": "3b671961-7e11-4074-b7fa-d598357f3bfd"
   },
   "outputs": [
    {
     "data": {
      "text/html": [
       "<div>\n",
       "<style scoped>\n",
       "    .dataframe tbody tr th:only-of-type {\n",
       "        vertical-align: middle;\n",
       "    }\n",
       "\n",
       "    .dataframe tbody tr th {\n",
       "        vertical-align: top;\n",
       "    }\n",
       "\n",
       "    .dataframe thead th {\n",
       "        text-align: right;\n",
       "    }\n",
       "</style>\n",
       "<table border=\"1\" class=\"dataframe\">\n",
       "  <thead>\n",
       "    <tr style=\"text-align: right;\">\n",
       "      <th></th>\n",
       "      <th>Date</th>\n",
       "      <th>Screen Name</th>\n",
       "      <th>Full Name</th>\n",
       "      <th>Tweet Text</th>\n",
       "      <th>Tweet ID</th>\n",
       "      <th>App</th>\n",
       "      <th>Followers</th>\n",
       "      <th>Follows</th>\n",
       "      <th>Retweets</th>\n",
       "      <th>Favorites</th>\n",
       "      <th>Verfied</th>\n",
       "      <th>User Since</th>\n",
       "      <th>Location</th>\n",
       "      <th>Bio</th>\n",
       "      <th>Profile Image</th>\n",
       "      <th>Google Maps</th>\n",
       "    </tr>\n",
       "  </thead>\n",
       "  <tbody>\n",
       "    <tr>\n",
       "      <th>0</th>\n",
       "      <td>Date</td>\n",
       "      <td>Screen Name</td>\n",
       "      <td>Full Name</td>\n",
       "      <td>Tweet Text</td>\n",
       "      <td>Tweet ID</td>\n",
       "      <td>App</td>\n",
       "      <td>Followers</td>\n",
       "      <td>Follows</td>\n",
       "      <td>Retweets</td>\n",
       "      <td>Favorites</td>\n",
       "      <td>Verfied</td>\n",
       "      <td>User Since</td>\n",
       "      <td>Location</td>\n",
       "      <td>Bio</td>\n",
       "      <td>Profile Image</td>\n",
       "      <td>Google Maps</td>\n",
       "    </tr>\n",
       "    <tr>\n",
       "      <th>1</th>\n",
       "      <td>2/27/2017 23:48:13</td>\n",
       "      <td>@caileonn</td>\n",
       "      <td>???i?i? ?eo??</td>\n",
       "      <td>RT @deray: How Far I'll Go, Moana. feat. Auli'...</td>\n",
       "      <td>836452929183731712</td>\n",
       "      <td>Twitter for iPhone</td>\n",
       "      <td>397</td>\n",
       "      <td>295</td>\n",
       "      <td>6777</td>\n",
       "      <td>0</td>\n",
       "      <td>No</td>\n",
       "      <td>8/16/2009</td>\n",
       "      <td>West Coast</td>\n",
       "      <td>{ Instagram: @caileonn }</td>\n",
       "      <td>View</td>\n",
       "      <td>NaN</td>\n",
       "    </tr>\n",
       "    <tr>\n",
       "      <th>2</th>\n",
       "      <td>2/27/2017 23:48:13</td>\n",
       "      <td>@luisdemdiaz</td>\n",
       "      <td>Luis Diaz</td>\n",
       "      <td>RT @cosmos212: Será la foto de la década?? #os...</td>\n",
       "      <td>836452930601484288</td>\n",
       "      <td>Twitter Web Client</td>\n",
       "      <td>67</td>\n",
       "      <td>119</td>\n",
       "      <td>77</td>\n",
       "      <td>0</td>\n",
       "      <td>No</td>\n",
       "      <td>2/23/2016</td>\n",
       "      <td>Culiacán, Sinaloa</td>\n",
       "      <td>25 años.</td>\n",
       "      <td>View</td>\n",
       "      <td>NaN</td>\n",
       "    </tr>\n",
       "  </tbody>\n",
       "</table>\n",
       "</div>"
      ],
      "text/plain": [
       "0                Date   Screen Name      Full Name  \\\n",
       "0                Date   Screen Name      Full Name   \n",
       "1  2/27/2017 23:48:13     @caileonn  ???i?i? ?eo??   \n",
       "2  2/27/2017 23:48:13  @luisdemdiaz      Luis Diaz   \n",
       "\n",
       "0                                         Tweet Text            Tweet ID  \\\n",
       "0                                         Tweet Text            Tweet ID   \n",
       "1  RT @deray: How Far I'll Go, Moana. feat. Auli'...  836452929183731712   \n",
       "2  RT @cosmos212: Será la foto de la década?? #os...  836452930601484288   \n",
       "\n",
       "0                 App  Followers  Follows  Retweets  Favorites  Verfied  \\\n",
       "0                 App  Followers  Follows  Retweets  Favorites  Verfied   \n",
       "1  Twitter for iPhone        397      295      6777          0       No   \n",
       "2  Twitter Web Client         67      119        77          0       No   \n",
       "\n",
       "0  User Since           Location                       Bio  Profile Image  \\\n",
       "0  User Since           Location                       Bio  Profile Image   \n",
       "1   8/16/2009         West Coast  { Instagram: @caileonn }           View   \n",
       "2   2/23/2016  Culiacán, Sinaloa                  25 años.           View   \n",
       "\n",
       "0  Google Maps  \n",
       "0  Google Maps  \n",
       "1          NaN  \n",
       "2          NaN  "
      ]
     },
     "execution_count": 46,
     "metadata": {},
     "output_type": "execute_result"
    }
   ],
   "source": [
    "df.columns=df.iloc[0]\n",
    "\n",
    "# df.columns\n",
    "\n",
    "df.head(3)"
   ]
  },
  {
   "cell_type": "code",
   "execution_count": 125,
   "metadata": {
    "colab": {
     "base_uri": "https://localhost:8080/"
    },
    "id": "kBn27wWUrICO",
    "outputId": "fb65f1d0-ec3c-4f34-d0eb-cba695176791",
    "tags": []
   },
   "outputs": [],
   "source": [
    "# df cleaning\n",
    "df.dropna(inplace=True)\n",
    "df_sma = df[[\"Tweet Text\",\"Screen Name\"]]\\\n",
    "    .rename(columns={\"Tweet Text\":\"text\", \"Screen Name\":\"username\"}) # посмотрим на содержимое колонки с твитами\n"
   ]
  },
  {
   "cell_type": "code",
   "execution_count": 146,
   "metadata": {
    "collapsed": true,
    "jupyter": {
     "outputs_hidden": true
    },
    "tags": []
   },
   "outputs": [
    {
     "data": {
      "text/html": [
       "<div>\n",
       "<style scoped>\n",
       "    .dataframe tbody tr th:only-of-type {\n",
       "        vertical-align: middle;\n",
       "    }\n",
       "\n",
       "    .dataframe tbody tr th {\n",
       "        vertical-align: top;\n",
       "    }\n",
       "\n",
       "    .dataframe thead th {\n",
       "        text-align: right;\n",
       "    }\n",
       "</style>\n",
       "<table border=\"1\" class=\"dataframe\">\n",
       "  <thead>\n",
       "    <tr style=\"text-align: right;\">\n",
       "      <th></th>\n",
       "      <th>text</th>\n",
       "      <th>username</th>\n",
       "    </tr>\n",
       "  </thead>\n",
       "  <tbody>\n",
       "    <tr>\n",
       "      <th>0</th>\n",
       "      <td>RT @SeriesBrasil: Dakota Johnson na after part...</td>\n",
       "      <td>@sheszquad</td>\n",
       "    </tr>\n",
       "    <tr>\n",
       "      <th>1</th>\n",
       "      <td>RT @itzsmiley_: ???? ??????? ??????? ??????? ?...</td>\n",
       "      <td>@Gunasekarkpr</td>\n",
       "    </tr>\n",
       "    <tr>\n",
       "      <th>2</th>\n",
       "      <td>RT @mydigi: Edisi #Oscars RT kalau faham! ?? #...</td>\n",
       "      <td>@syafeeqz95</td>\n",
       "    </tr>\n",
       "    <tr>\n",
       "      <th>3</th>\n",
       "      <td>RT @Nangdee: ???????????????????? ????????????...</td>\n",
       "      <td>@NAEME_TK</td>\n",
       "    </tr>\n",
       "    <tr>\n",
       "      <th>4</th>\n",
       "      <td>RT @9GAG: Oh my god! #Oscars https://t.co/gDCd...</td>\n",
       "      <td>@LianMAniez</td>\n",
       "    </tr>\n",
       "    <tr>\n",
       "      <th>...</th>\n",
       "      <td>...</td>\n",
       "      <td>...</td>\n",
       "    </tr>\n",
       "    <tr>\n",
       "      <th>95</th>\n",
       "      <td>RT @colinjones: Here's Viola Davis' full #Osca...</td>\n",
       "      <td>@Bhudda__Rex</td>\n",
       "    </tr>\n",
       "    <tr>\n",
       "      <th>96</th>\n",
       "      <td>RT @dylanohollands: 2017: the year of viola da...</td>\n",
       "      <td>@jennyluvsme</td>\n",
       "    </tr>\n",
       "    <tr>\n",
       "      <th>97</th>\n",
       "      <td>RT @1910_seba: ??? ??????????!?!??!??? ¿??¿ ?!...</td>\n",
       "      <td>@dianauldashova</td>\n",
       "    </tr>\n",
       "    <tr>\n",
       "      <th>98</th>\n",
       "      <td>Congratulations #ViolaDavis #Oscars You're ama...</td>\n",
       "      <td>@Desinskeycrazy</td>\n",
       "    </tr>\n",
       "    <tr>\n",
       "      <th>99</th>\n",
       "      <td>RT @TheSkorpion: A black film won best picture...</td>\n",
       "      <td>@KaranMakkar12</td>\n",
       "    </tr>\n",
       "  </tbody>\n",
       "</table>\n",
       "<p>100 rows × 2 columns</p>\n",
       "</div>"
      ],
      "text/plain": [
       "0                                                text         username\n",
       "0   RT @SeriesBrasil: Dakota Johnson na after part...       @sheszquad\n",
       "1   RT @itzsmiley_: ???? ??????? ??????? ??????? ?...    @Gunasekarkpr\n",
       "2   RT @mydigi: Edisi #Oscars RT kalau faham! ?? #...      @syafeeqz95\n",
       "3   RT @Nangdee: ???????????????????? ????????????...        @NAEME_TK\n",
       "4   RT @9GAG: Oh my god! #Oscars https://t.co/gDCd...      @LianMAniez\n",
       "..                                                ...              ...\n",
       "95  RT @colinjones: Here's Viola Davis' full #Osca...     @Bhudda__Rex\n",
       "96  RT @dylanohollands: 2017: the year of viola da...     @jennyluvsme\n",
       "97  RT @1910_seba: ??? ??????????!?!??!??? ¿??¿ ?!...  @dianauldashova\n",
       "98  Congratulations #ViolaDavis #Oscars You're ama...  @Desinskeycrazy\n",
       "99  RT @TheSkorpion: A black film won best picture...   @KaranMakkar12\n",
       "\n",
       "[100 rows x 2 columns]"
      ]
     },
     "execution_count": 146,
     "metadata": {},
     "output_type": "execute_result"
    }
   ],
   "source": [
    "clean = df_sm.sample(n=100, random_state=3)\n",
    "clean = clean.reset_index().drop(\"index\", axis=1)\n",
    "clean"
   ]
  },
  {
   "cell_type": "code",
   "execution_count": 156,
   "metadata": {
    "colab": {
     "base_uri": "https://localhost:8080/"
    },
    "id": "QqW_PzbiUJdy",
    "outputId": "9d987d25-d235-4a7b-aaaa-9127e0e049d2"
   },
   "outputs": [
    {
     "data": {
      "text/plain": [
       "100"
      ]
     },
     "execution_count": 156,
     "metadata": {},
     "output_type": "execute_result"
    }
   ],
   "source": [
    "oscars = clean.text.to_list()\n",
    "\n",
    "len(oscars)"
   ]
  },
  {
   "cell_type": "code",
   "execution_count": 160,
   "metadata": {
    "colab": {
     "base_uri": "https://localhost:8080/",
     "height": 1000
    },
    "id": "fJJQw7g5WqwW",
    "outputId": "b92fc9f3-a9c3-487a-f0f4-ab327e961c77",
    "tags": []
   },
   "outputs": [
    {
     "data": {
      "text/html": [
       "<span class=\"tex2jax_ignore\"><div class=\"entities\" style=\"line-height: 2.5; direction: ltr\"> \n",
       "<mark class=\"entity\" style=\"background: #c887fb; padding: 0.45em 0.6em; margin: 0 0.25em; line-height: 1; border-radius: 0.35em;\">\n",
       "    Congrats\n",
       "    <span style=\"font-size: 0.8em; font-weight: bold; line-height: 1; border-radius: 0.35em; vertical-align: middle; margin-left: 0.5rem\">NORP</span>\n",
       "</mark>\n",
       " \n",
       "<mark class=\"entity\" style=\"background: #aa9cfc; padding: 0.45em 0.6em; margin: 0 0.25em; line-height: 1; border-radius: 0.35em;\">\n",
       "    Steve Harvey\n",
       "    <span style=\"font-size: 0.8em; font-weight: bold; line-height: 1; border-radius: 0.35em; vertical-align: middle; margin-left: 0.5rem\">PERSON</span>\n",
       "</mark>\n",
       ", you're officially off the hook #Oscars</div></span>"
      ],
      "text/plain": [
       "<IPython.core.display.HTML object>"
      ]
     },
     "metadata": {},
     "output_type": "display_data"
    },
    {
     "name": "stdout",
     "output_type": "stream",
     "text": [
      "\n",
      "Entities found: (Congrats, Steve Harvey)\n"
     ]
    },
    {
     "data": {
      "text/html": [
       "<span class=\"tex2jax_ignore\"><div class=\"entities\" style=\"line-height: 2.5; direction: ltr\"> The \n",
       "<mark class=\"entity\" style=\"background: #e4e7d2; padding: 0.45em 0.6em; margin: 0 0.25em; line-height: 1; border-radius: 0.35em;\">\n",
       "    9\n",
       "    <span style=\"font-size: 0.8em; font-weight: bold; line-height: 1; border-radius: 0.35em; vertical-align: middle; margin-left: 0.5rem\">CARDINAL</span>\n",
       "</mark>\n",
       " best #Oscars reactions and breakdowns they didn't show you https://t.co/METe0osHbf https://t.co/kjj7g7owJs</div></span>"
      ],
      "text/plain": [
       "<IPython.core.display.HTML object>"
      ]
     },
     "metadata": {},
     "output_type": "display_data"
    },
    {
     "name": "stdout",
     "output_type": "stream",
     "text": [
      "\n",
      "Entities found: (9,)\n"
     ]
    },
    {
     "data": {
      "text/html": [
       "<span class=\"tex2jax_ignore\"><div class=\"entities\" style=\"line-height: 2.5; direction: ltr\">@AP I'm really tired of hearing about the #Oscars Enough already</div></span>"
      ],
      "text/plain": [
       "<IPython.core.display.HTML object>"
      ]
     },
     "metadata": {},
     "output_type": "display_data"
    },
    {
     "name": "stdout",
     "output_type": "stream",
     "text": [
      "\n",
      "Entities found: ()\n"
     ]
    },
    {
     "data": {
      "text/html": [
       "<span class=\"tex2jax_ignore\"><div class=\"entities\" style=\"line-height: 2.5; direction: ltr\">Take a bow @violadavis! You are a true inspiration. #ViolaDavis speech \n",
       "<mark class=\"entity\" style=\"background: #e4e7d2; padding: 0.45em 0.6em; margin: 0 0.25em; line-height: 1; border-radius: 0.35em;\">\n",
       "    #\n",
       "    <span style=\"font-size: 0.8em; font-weight: bold; line-height: 1; border-radius: 0.35em; vertical-align: middle; margin-left: 0.5rem\">CARDINAL</span>\n",
       "</mark>\n",
       "Oscars https://t.co/Quhu86ukC4</div></span>"
      ],
      "text/plain": [
       "<IPython.core.display.HTML object>"
      ]
     },
     "metadata": {},
     "output_type": "display_data"
    },
    {
     "name": "stdout",
     "output_type": "stream",
     "text": [
      "\n",
      "Entities found: (#,)\n"
     ]
    }
   ],
   "source": [
    " # для твитов выбранного диапазона (его можно менять)\n",
    "for x in oscars[87:91]:\n",
    "    text = re.sub(\"RT\\s@\\w+:\",\"\",x)\n",
    "    doc = nlp(text) # обрабатываем текст spacy-функцией\n",
    "    displacy.render(doc, style = \"ent\",jupyter =True) # отображаем такие твиты \n",
    "    print('\\nEntities found:',doc.ents) # покажите сами сущности\n"
   ]
  },
  {
   "cell_type": "code",
   "execution_count": 140,
   "metadata": {},
   "outputs": [],
   "source": [
    "# as a func\n",
    "\n",
    "def get_ents(text):\n",
    "    \n",
    "        text = re.sub(\"RT\\s@\\w+:\",\"\",text) # убираем мусор\n",
    "        doc = nlp(text) # обрабатываем текст spacy-функцией\n",
    "        res = list(doc.ents)\n",
    "        \n",
    "        return res"
   ]
  },
  {
   "cell_type": "code",
   "execution_count": 169,
   "metadata": {},
   "outputs": [
    {
     "data": {
      "text/html": [
       "<div>\n",
       "<style scoped>\n",
       "    .dataframe tbody tr th:only-of-type {\n",
       "        vertical-align: middle;\n",
       "    }\n",
       "\n",
       "    .dataframe tbody tr th {\n",
       "        vertical-align: top;\n",
       "    }\n",
       "\n",
       "    .dataframe thead th {\n",
       "        text-align: right;\n",
       "    }\n",
       "</style>\n",
       "<table border=\"1\" class=\"dataframe\">\n",
       "  <thead>\n",
       "    <tr style=\"text-align: right;\">\n",
       "      <th></th>\n",
       "      <th>text</th>\n",
       "      <th>username</th>\n",
       "      <th>entities</th>\n",
       "    </tr>\n",
       "  </thead>\n",
       "  <tbody>\n",
       "    <tr>\n",
       "      <th>54</th>\n",
       "      <td>RT @beynobrasil: Beyoncé atualizou seu site co...</td>\n",
       "      <td>@yezzy_zlut</td>\n",
       "      <td>[(Beyoncé)]</td>\n",
       "    </tr>\n",
       "    <tr>\n",
       "      <th>55</th>\n",
       "      <td>RT @OddNaari: #Moonlight has become the first ...</td>\n",
       "      <td>@Say_Ouate</td>\n",
       "      <td>[(first), (#, re, #)]</td>\n",
       "    </tr>\n",
       "    <tr>\n",
       "      <th>56</th>\n",
       "      <td>#Oscars https://t.co/kYIY64e15B</td>\n",
       "      <td>@casanord10</td>\n",
       "      <td>[]</td>\n",
       "    </tr>\n",
       "    <tr>\n",
       "      <th>57</th>\n",
       "      <td>RT @_getadvice: ??????? ????????? «??????» ???...</td>\n",
       "      <td>@lery178</td>\n",
       "      <td>[(#, Oscars, #, Lalaland)]</td>\n",
       "    </tr>\n",
       "    <tr>\n",
       "      <th>58</th>\n",
       "      <td>RT @mrskin: Going for the Gold': Oscar Nods S...</td>\n",
       "      <td>@NilzLuet</td>\n",
       "      <td>[(Gold), (Oscar, Nods, Show, Their, Bods)]</td>\n",
       "    </tr>\n",
       "  </tbody>\n",
       "</table>\n",
       "</div>"
      ],
      "text/plain": [
       "0                                                text     username  \\\n",
       "54  RT @beynobrasil: Beyoncé atualizou seu site co...  @yezzy_zlut   \n",
       "55  RT @OddNaari: #Moonlight has become the first ...   @Say_Ouate   \n",
       "56                    #Oscars https://t.co/kYIY64e15B  @casanord10   \n",
       "57  RT @_getadvice: ??????? ????????? «??????» ???...     @lery178   \n",
       "58  RT @mrskin: Going for the Gold': Oscar Nods S...    @NilzLuet   \n",
       "\n",
       "0                                     entities  \n",
       "54                                 [(Beyoncé)]  \n",
       "55                       [(first), (#, re, #)]  \n",
       "56                                          []  \n",
       "57                  [(#, Oscars, #, Lalaland)]  \n",
       "58  [(Gold), (Oscar, Nods, Show, Their, Bods)]  "
      ]
     },
     "execution_count": 169,
     "metadata": {},
     "output_type": "execute_result"
    }
   ],
   "source": [
    "# clean[\"entities\"] = clean.text.apply(lambda x: get_ents(x))\n",
    "clean[54:59]"
   ]
  },
  {
   "cell_type": "markdown",
   "metadata": {
    "id": "Gdi10m0duuAr"
   },
   "source": [
    "# Как еще можно извлекать информацию?\n",
    "- не через сущности, а через POS-тэги,([так](https://github.com/nstsj/Knowledge_Engineering/blob/master/class1/KE_%D0%BB%D0%B5%D0%BA%D1%86%D0%B8%D1%8F1.pptx),  [так](https://github.com/nstsj/Knowledge_Engineering/blob/master/class2/KE_%D1%81%D0%B5%D0%BC%D0%B8%D0%BD%D0%B0%D1%802_Knowledge_Graphs.ipynb))\n",
    "\n",
    "- из русскоязычных текстов, при помощи [natasha](https://github.com/mannefedov/compling_nlp_hse_course/blob/master/notebooks/NER.ipynb)\n",
    "\n",
    "- с помощью [этой библиотеки](https://github.com/fhamborg/Giveme5W1H) (работает с json-файлами)\n"
   ]
  },
  {
   "cell_type": "code",
   "execution_count": null,
   "metadata": {},
   "outputs": [],
   "source": []
  }
 ],
 "metadata": {
  "accelerator": "TPU",
  "colab": {
   "collapsed_sections": [
    "vTI-BoOUlB59",
    "42TAplQHmfgd",
    "gpqI0K8cxAJ9"
   ],
   "name": "KE_семинар5: Info Extraction(NER+coref)",
   "provenance": []
  },
  "kernelspec": {
   "display_name": "Python 3 (ipykernel)",
   "language": "python",
   "name": "python3"
  },
  "language_info": {
   "codemirror_mode": {
    "name": "ipython",
    "version": 3
   },
   "file_extension": ".py",
   "mimetype": "text/x-python",
   "name": "python",
   "nbconvert_exporter": "python",
   "pygments_lexer": "ipython3",
   "version": "3.10.2"
  }
 },
 "nbformat": 4,
 "nbformat_minor": 4
}
