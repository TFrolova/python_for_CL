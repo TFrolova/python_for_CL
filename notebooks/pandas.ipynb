{
 "cells": [
  {
   "cell_type": "markdown",
   "metadata": {
    "colab_type": "text",
    "id": "LchzhkUv1OnX"
   },
   "source": [
    "Сегодня мы поговорим о библиотеке, которая позволяет работать с табличными данными. Она называется pandas"
   ]
  },
  {
   "cell_type": "code",
   "execution_count": null,
   "metadata": {
    "colab": {
     "base_uri": "https://localhost:8080/",
     "height": 101
    },
    "colab_type": "code",
    "id": "dy_UDg8kL5Vc",
    "outputId": "03e45008-9ea3-4b54-db6e-3099955cec94"
   },
   "outputs": [],
   "source": [
    "# ! pip3 install pandas # если pandas не установлен, следует запустить эту ячейку"
   ]
  },
  {
   "cell_type": "code",
   "execution_count": 1,
   "metadata": {
    "colab": {},
    "colab_type": "code",
    "id": "mu_R9WN2MFeQ"
   },
   "outputs": [],
   "source": [
    "import pandas as pd # теперь импортируем pandas в эту тетрадку"
   ]
  },
  {
   "cell_type": "markdown",
   "metadata": {
    "colab_type": "text",
    "id": "dDSmXeLaTh4U"
   },
   "source": [
    "документация для pandas [лежит здесь](https://pandas.pydata.org/pandas-docs/stable/getting_started/tutorials.html)\n",
    "\n",
    "Основные элементы \"табличек в pandas\" - это Series и Dataframe\n",
    "\n",
    "Series - это объект, похожий на одномерный массив (как обычный список в питоне) с элементами и  индексами вдоль каждого элемента из списка. \n",
    "\n",
    "DataFrame \"собирается\" из таких Series"
   ]
  },
  {
   "cell_type": "markdown",
   "metadata": {
    "colab_type": "text",
    "id": "YwQGRoCkO4y1"
   },
   "source": [
    "<img alt=\"Series vs DataFrame\" height=\"300\" width=\"700\" src=\"https://storage.googleapis.com/lds-media/images/series-and-dataframe.width-1200.png\" >"
   ]
  },
  {
   "cell_type": "markdown",
   "metadata": {
    "tags": []
   },
   "source": [
    "# Создание датафрейма"
   ]
  },
  {
   "cell_type": "markdown",
   "metadata": {},
   "source": [
    "Создать дф можно двумя способами:\n",
    "- из словаря методом pd.DataFrame.from_dict()\n",
    "- прочитав .csv файл\n",
    "\n",
    "попробуем оба способа\n",
    "\n",
    "### Первый"
   ]
  },
  {
   "cell_type": "code",
   "execution_count": 2,
   "metadata": {
    "colab": {
     "base_uri": "https://localhost:8080/",
     "height": 166
    },
    "colab_type": "code",
    "id": "6Vy_M6tPMQCE",
    "outputId": "306f8933-4b0d-46f5-8523-6926b235af5c"
   },
   "outputs": [
    {
     "data": {
      "text/html": [
       "<div>\n",
       "<style scoped>\n",
       "    .dataframe tbody tr th:only-of-type {\n",
       "        vertical-align: middle;\n",
       "    }\n",
       "\n",
       "    .dataframe tbody tr th {\n",
       "        vertical-align: top;\n",
       "    }\n",
       "\n",
       "    .dataframe thead th {\n",
       "        text-align: right;\n",
       "    }\n",
       "</style>\n",
       "<table border=\"1\" class=\"dataframe\">\n",
       "  <thead>\n",
       "    <tr style=\"text-align: right;\">\n",
       "      <th></th>\n",
       "      <th>city</th>\n",
       "      <th>age</th>\n",
       "    </tr>\n",
       "  </thead>\n",
       "  <tbody>\n",
       "    <tr>\n",
       "      <th>Maria</th>\n",
       "      <td>London</td>\n",
       "      <td>37</td>\n",
       "    </tr>\n",
       "    <tr>\n",
       "      <th>Lorenzo</th>\n",
       "      <td>Milan</td>\n",
       "      <td>28</td>\n",
       "    </tr>\n",
       "    <tr>\n",
       "      <th>Oleg</th>\n",
       "      <td>Canberra</td>\n",
       "      <td>31</td>\n",
       "    </tr>\n",
       "    <tr>\n",
       "      <th>Hans</th>\n",
       "      <td>Calgary</td>\n",
       "      <td>80</td>\n",
       "    </tr>\n",
       "    <tr>\n",
       "      <th>Mark</th>\n",
       "      <td>Milan</td>\n",
       "      <td>55</td>\n",
       "    </tr>\n",
       "    <tr>\n",
       "      <th>Alex</th>\n",
       "      <td>Krakow</td>\n",
       "      <td>35</td>\n",
       "    </tr>\n",
       "    <tr>\n",
       "      <th>Julia</th>\n",
       "      <td>Murmansk</td>\n",
       "      <td>43</td>\n",
       "    </tr>\n",
       "  </tbody>\n",
       "</table>\n",
       "</div>"
      ],
      "text/plain": [
       "             city age\n",
       "Maria      London  37\n",
       "Lorenzo     Milan  28\n",
       "Oleg     Canberra  31\n",
       "Hans      Calgary  80\n",
       "Mark        Milan  55\n",
       "Alex       Krakow  35\n",
       "Julia    Murmansk  43"
      ]
     },
     "metadata": {},
     "output_type": "display_data"
    }
   ],
   "source": [
    "# шаг 1 создадим словарь\n",
    "\n",
    "data = {\n",
    "    \"Maria\":[\"London\",37],\n",
    "    \"Lorenzo\":[\"Milan\",28],\n",
    "    \"Oleg\":[\"Canberra\",31],\n",
    "    \"Hans\":[\"Calgary\",80],\n",
    "    \"Mark\":[\"Milan\",55],\n",
    "    \"Alex\":[\"Krakow\",35],\n",
    "    \"Julia\":[\"Murmansk\",43]\n",
    "    \n",
    "}\n",
    "\n",
    "# шаг 2 используем метод pd.DataFrame.from_dict()\n",
    "# аргументом подадим созданный словарь\n",
    "\n",
    "postcards = pd.DataFrame.from_dict(data, orient=\"columns\").T.rename(columns={0:\"city\", 1:\"age\"})\n",
    "\n",
    "\n",
    "display(postcards)"
   ]
  },
  {
   "cell_type": "markdown",
   "metadata": {},
   "source": [
    "### Второй способ"
   ]
  },
  {
   "cell_type": "code",
   "execution_count": 6,
   "metadata": {
    "tags": []
   },
   "outputs": [],
   "source": [
    "# прочитаем какой-нибудь .csv файл методом pd.read_csv()\n",
    "\n",
    "recipes = pd.read_csv(\"../data/christmas_recipes.csv\", encoding=\"utf-8\")"
   ]
  },
  {
   "cell_type": "markdown",
   "metadata": {},
   "source": [
    "### Как посмотреть на часть датафрейма\n",
    "\n",
    "понадобятся методы ```.head()```, ```.tail()``` или индексация"
   ]
  },
  {
   "cell_type": "code",
   "execution_count": 8,
   "metadata": {
    "tags": []
   },
   "outputs": [
    {
     "data": {
      "text/html": [
       "<div>\n",
       "<style scoped>\n",
       "    .dataframe tbody tr th:only-of-type {\n",
       "        vertical-align: middle;\n",
       "    }\n",
       "\n",
       "    .dataframe tbody tr th {\n",
       "        vertical-align: top;\n",
       "    }\n",
       "\n",
       "    .dataframe thead th {\n",
       "        text-align: right;\n",
       "    }\n",
       "</style>\n",
       "<table border=\"1\" class=\"dataframe\">\n",
       "  <thead>\n",
       "    <tr style=\"text-align: right;\">\n",
       "      <th></th>\n",
       "      <th>Title</th>\n",
       "      <th>Time</th>\n",
       "      <th>Servings</th>\n",
       "      <th>Ingredients</th>\n",
       "      <th>Instructions</th>\n",
       "      <th>Image</th>\n",
       "    </tr>\n",
       "  </thead>\n",
       "  <tbody>\n",
       "    <tr>\n",
       "      <th>0</th>\n",
       "      <td>Perfect roast turkey</td>\n",
       "      <td>180</td>\n",
       "      <td>10 serving(s)</td>\n",
       "      <td>['20ml/¾fl oz rapeseed oil', '1 x 5kg/11lb goo...</td>\n",
       "      <td>Remove the turkey from the fridge and bring to...</td>\n",
       "      <td>https://ichef.bbci.co.uk/food/ic/food_16x9_832...</td>\n",
       "    </tr>\n",
       "    <tr>\n",
       "      <th>1</th>\n",
       "      <td>Stuffed roast turkey breast</td>\n",
       "      <td>180</td>\n",
       "      <td>8 serving(s)</td>\n",
       "      <td>['1 tbsp sunflower oil', '1 onion, finely chop...</td>\n",
       "      <td>To make the stuffing, heat the oil and gently ...</td>\n",
       "      <td>https://ichef.bbci.co.uk/food/ic/food_16x9_832...</td>\n",
       "    </tr>\n",
       "  </tbody>\n",
       "</table>\n",
       "</div>"
      ],
      "text/plain": [
       "                         Title  Time       Servings  \\\n",
       "0         Perfect roast turkey   180  10 serving(s)   \n",
       "1  Stuffed roast turkey breast   180   8 serving(s)   \n",
       "\n",
       "                                         Ingredients  \\\n",
       "0  ['20ml/¾fl oz rapeseed oil', '1 x 5kg/11lb goo...   \n",
       "1  ['1 tbsp sunflower oil', '1 onion, finely chop...   \n",
       "\n",
       "                                        Instructions  \\\n",
       "0  Remove the turkey from the fridge and bring to...   \n",
       "1  To make the stuffing, heat the oil and gently ...   \n",
       "\n",
       "                                               Image  \n",
       "0  https://ichef.bbci.co.uk/food/ic/food_16x9_832...  \n",
       "1  https://ichef.bbci.co.uk/food/ic/food_16x9_832...  "
      ]
     },
     "execution_count": 8,
     "metadata": {},
     "output_type": "execute_result"
    }
   ],
   "source": [
    "# первые строки\n",
    "recipes.head(2)"
   ]
  },
  {
   "cell_type": "code",
   "execution_count": null,
   "metadata": {
    "tags": []
   },
   "outputs": [],
   "source": [
    "# последние строки\n",
    "recipes.tail(3)"
   ]
  },
  {
   "cell_type": "code",
   "execution_count": null,
   "metadata": {
    "tags": []
   },
   "outputs": [],
   "source": [
    "# часть датафрейма по  индексам строчек\n",
    "recipes[15:18]"
   ]
  },
  {
   "cell_type": "markdown",
   "metadata": {
    "tags": []
   },
   "source": [
    "# Характеристики датафрейма"
   ]
  },
  {
   "cell_type": "code",
   "execution_count": 9,
   "metadata": {
    "colab": {
     "base_uri": "https://localhost:8080/",
     "height": 34
    },
    "colab_type": "code",
    "id": "JdqZWwligQB8",
    "outputId": "20ce9fe4-9483-4706-8796-55bde062142e"
   },
   "outputs": [
    {
     "data": {
      "text/plain": [
       "(7, 2)"
      ]
     },
     "execution_count": 9,
     "metadata": {},
     "output_type": "execute_result"
    }
   ],
   "source": [
    "#размеры датафрейма\n",
    "\n",
    "postcards.shape\n",
    "# recipes.shape"
   ]
  },
  {
   "cell_type": "code",
   "execution_count": 10,
   "metadata": {},
   "outputs": [
    {
     "name": "stdout",
     "output_type": "stream",
     "text": [
      "<class 'pandas.core.frame.DataFrame'>\n",
      "Index: 7 entries, Maria to Julia\n",
      "Data columns (total 2 columns):\n",
      " #   Column  Non-Null Count  Dtype \n",
      "---  ------  --------------  ----- \n",
      " 0   city    7 non-null      object\n",
      " 1   age     7 non-null      object\n",
      "dtypes: object(2)\n",
      "memory usage: 168.0+ bytes\n"
     ]
    }
   ],
   "source": [
    "# описание датафрейма\n",
    "\n",
    "postcards.info()\n",
    "# recipes.info()"
   ]
  },
  {
   "cell_type": "code",
   "execution_count": 11,
   "metadata": {},
   "outputs": [],
   "source": [
    "# изменим тип колонки age на числовой методом .astype()\n",
    "\n",
    "postcards[\"age\"] = postcards[\"age\"].astype(\"int64\")"
   ]
  },
  {
   "cell_type": "markdown",
   "metadata": {},
   "source": [
    "### Как посмотреть, где живет конкретный человек?\n",
    "\n",
    "Чтобы найти нужную строку, нам нужны индексы. \n",
    "Посмотрим на примере датасета с людьми и городами. У нашего датафрейма есть две оси: по строкам(нулевая, она же  index) и столбцам(первая, она же columns)\n"
   ]
  },
  {
   "cell_type": "code",
   "execution_count": 12,
   "metadata": {
    "tags": []
   },
   "outputs": [
    {
     "data": {
      "text/plain": [
       "Index(['Maria', 'Lorenzo', 'Oleg', 'Hans', 'Mark', 'Alex', 'Julia'], dtype='object')"
      ]
     },
     "execution_count": 12,
     "metadata": {},
     "output_type": "execute_result"
    }
   ],
   "source": [
    "postcards.index"
   ]
  },
  {
   "cell_type": "code",
   "execution_count": 13,
   "metadata": {
    "colab": {
     "base_uri": "https://localhost:8080/",
     "height": 67
    },
    "colab_type": "code",
    "id": "brXnQmZ9q4Bo",
    "outputId": "47c8b718-8f11-42ba-d1db-c57e3a1619eb"
   },
   "outputs": [
    {
     "data": {
      "text/plain": [
       "Index(['city', 'age'], dtype='object')"
      ]
     },
     "execution_count": 13,
     "metadata": {},
     "output_type": "execute_result"
    }
   ],
   "source": [
    "postcards.columns"
   ]
  },
  {
   "cell_type": "code",
   "execution_count": null,
   "metadata": {},
   "outputs": [],
   "source": [
    "postcards.reset_index() # так индекс можно \"сбросить\" "
   ]
  },
  {
   "cell_type": "code",
   "execution_count": null,
   "metadata": {},
   "outputs": [],
   "source": [
    "postcards = postcards.set_index(\"index\") # а так поставить индексом любую колонку"
   ]
  },
  {
   "cell_type": "code",
   "execution_count": 15,
   "metadata": {
    "colab": {
     "base_uri": "https://localhost:8080/",
     "height": 34
    },
    "colab_type": "code",
    "id": "eIGCunCwro1O",
    "outputId": "48de43dc-2d4b-47ec-d416-da3d6cad8f42"
   },
   "outputs": [
    {
     "data": {
      "text/plain": [
       "'London'"
      ]
     },
     "execution_count": 15,
     "metadata": {},
     "output_type": "execute_result"
    }
   ],
   "source": [
    "# пересечение индексов выдаст конкретную ячейку: ищем где живет Мария\n",
    "\n",
    "postcards.loc['Maria'][\"city\"]"
   ]
  },
  {
   "cell_type": "markdown",
   "metadata": {},
   "source": [
    "**Получить строку по индексу** можно сделать двумя способами:\n",
    "\n",
    "- именной индекс, по \"названию\" строки в колонке \"Index\", (первая колонка датафрейма, у нас это имена людей)\n",
    "- порядковый индекс, по номеру строки в датафрейме (нумерация с 0)\n",
    "\n",
    "Для именного поиска понадобится метод ```.loc[]```, для порядкового -- ```.iloc[]```"
   ]
  },
  {
   "cell_type": "code",
   "execution_count": 17,
   "metadata": {},
   "outputs": [
    {
     "name": "stdout",
     "output_type": "stream",
     "text": [
      "city    Calgary\n",
      "age          80\n",
      "Name: Hans, dtype: object \n",
      "\n",
      "city    Calgary\n",
      "age          80\n",
      "Name: Hans, dtype: object\n"
     ]
    }
   ],
   "source": [
    "postcards\n",
    "\n",
    "print(postcards.iloc[3], \"\\n\")\n",
    "\n",
    "print(postcards.loc[\"Hans\"])"
   ]
  },
  {
   "cell_type": "markdown",
   "metadata": {},
   "source": [
    "**Указав название колонки**,  можно аналогично посмотреть все значения в ней"
   ]
  },
  {
   "cell_type": "code",
   "execution_count": 18,
   "metadata": {},
   "outputs": [
    {
     "data": {
      "text/plain": [
       "Maria      37\n",
       "Lorenzo    28\n",
       "Oleg       31\n",
       "Hans       80\n",
       "Mark       55\n",
       "Alex       35\n",
       "Julia      43\n",
       "Name: age, dtype: int64"
      ]
     },
     "execution_count": 18,
     "metadata": {},
     "output_type": "execute_result"
    }
   ],
   "source": [
    "postcards[\"age\"]"
   ]
  },
  {
   "cell_type": "markdown",
   "metadata": {
    "tags": []
   },
   "source": [
    "# Операции с датафреймами"
   ]
  },
  {
   "cell_type": "markdown",
   "metadata": {
    "tags": []
   },
   "source": [
    "### Добавление колонок и строк в датафрейм"
   ]
  },
  {
   "cell_type": "markdown",
   "metadata": {
    "colab_type": "text",
    "id": "6xG3z4Vov0Lq"
   },
   "source": [
    "В датафрейм можно добавить новые колонки: понадобится метод ```.assign()```"
   ]
  },
  {
   "cell_type": "code",
   "execution_count": 19,
   "metadata": {
    "colab": {
     "base_uri": "https://localhost:8080/",
     "height": 166
    },
    "colab_type": "code",
    "id": "q68INlyOv3wA",
    "outputId": "0609deea-e988-4368-dd64-355ebd87531c"
   },
   "outputs": [
    {
     "data": {
      "text/html": [
       "<div>\n",
       "<style scoped>\n",
       "    .dataframe tbody tr th:only-of-type {\n",
       "        vertical-align: middle;\n",
       "    }\n",
       "\n",
       "    .dataframe tbody tr th {\n",
       "        vertical-align: top;\n",
       "    }\n",
       "\n",
       "    .dataframe thead th {\n",
       "        text-align: right;\n",
       "    }\n",
       "</style>\n",
       "<table border=\"1\" class=\"dataframe\">\n",
       "  <thead>\n",
       "    <tr style=\"text-align: right;\">\n",
       "      <th></th>\n",
       "      <th>city</th>\n",
       "      <th>age</th>\n",
       "      <th>job</th>\n",
       "    </tr>\n",
       "  </thead>\n",
       "  <tbody>\n",
       "    <tr>\n",
       "      <th>Maria</th>\n",
       "      <td>London</td>\n",
       "      <td>37</td>\n",
       "      <td>Artist</td>\n",
       "    </tr>\n",
       "    <tr>\n",
       "      <th>Lorenzo</th>\n",
       "      <td>Milan</td>\n",
       "      <td>28</td>\n",
       "      <td>Teacher</td>\n",
       "    </tr>\n",
       "    <tr>\n",
       "      <th>Oleg</th>\n",
       "      <td>Canberra</td>\n",
       "      <td>31</td>\n",
       "      <td>Chef</td>\n",
       "    </tr>\n",
       "    <tr>\n",
       "      <th>Hans</th>\n",
       "      <td>Calgary</td>\n",
       "      <td>80</td>\n",
       "      <td>Artist</td>\n",
       "    </tr>\n",
       "    <tr>\n",
       "      <th>Mark</th>\n",
       "      <td>Milan</td>\n",
       "      <td>55</td>\n",
       "      <td>Manager</td>\n",
       "    </tr>\n",
       "    <tr>\n",
       "      <th>Alex</th>\n",
       "      <td>Krakow</td>\n",
       "      <td>35</td>\n",
       "      <td>Chef</td>\n",
       "    </tr>\n",
       "    <tr>\n",
       "      <th>Julia</th>\n",
       "      <td>Murmansk</td>\n",
       "      <td>43</td>\n",
       "      <td>Engineer</td>\n",
       "    </tr>\n",
       "  </tbody>\n",
       "</table>\n",
       "</div>"
      ],
      "text/plain": [
       "             city  age       job\n",
       "Maria      London   37    Artist\n",
       "Lorenzo     Milan   28   Teacher\n",
       "Oleg     Canberra   31      Chef\n",
       "Hans      Calgary   80    Artist\n",
       "Mark        Milan   55   Manager\n",
       "Alex       Krakow   35      Chef\n",
       "Julia    Murmansk   43  Engineer"
      ]
     },
     "metadata": {},
     "output_type": "display_data"
    }
   ],
   "source": [
    "postcards = postcards.assign(job=['Artist',\"Teacher\",\"Chef\",\"Artist\",\"Manager\",\"Chef\",\"Engineer\"])\n",
    "\n",
    "display(postcards)"
   ]
  },
  {
   "cell_type": "markdown",
   "metadata": {
    "colab_type": "text",
    "id": "8wI7nnyOx8kt"
   },
   "source": [
    "Добавить строки тоже можно: методом ```.append()```"
   ]
  },
  {
   "cell_type": "code",
   "execution_count": 21,
   "metadata": {
    "colab": {},
    "colab_type": "code",
    "id": "nWBEDV_X0rVB"
   },
   "outputs": [
    {
     "data": {
      "text/html": [
       "<div>\n",
       "<style scoped>\n",
       "    .dataframe tbody tr th:only-of-type {\n",
       "        vertical-align: middle;\n",
       "    }\n",
       "\n",
       "    .dataframe tbody tr th {\n",
       "        vertical-align: top;\n",
       "    }\n",
       "\n",
       "    .dataframe thead th {\n",
       "        text-align: right;\n",
       "    }\n",
       "</style>\n",
       "<table border=\"1\" class=\"dataframe\">\n",
       "  <thead>\n",
       "    <tr style=\"text-align: right;\">\n",
       "      <th></th>\n",
       "      <th>city</th>\n",
       "      <th>age</th>\n",
       "      <th>job</th>\n",
       "    </tr>\n",
       "  </thead>\n",
       "  <tbody>\n",
       "    <tr>\n",
       "      <th>Alice</th>\n",
       "      <td>NY</td>\n",
       "      <td>36</td>\n",
       "      <td>Engineer</td>\n",
       "    </tr>\n",
       "  </tbody>\n",
       "</table>\n",
       "</div>"
      ],
      "text/plain": [
       "      city  age       job\n",
       "Alice   NY   36  Engineer"
      ]
     },
     "execution_count": 21,
     "metadata": {},
     "output_type": "execute_result"
    }
   ],
   "source": [
    "df = pd.DataFrame.from_dict({\"Alice\":[\"NY\",36,\"Engineer\"]},\n",
    "                           orient=\"index\",\n",
    "                           columns=postcards.columns)\n",
    "df "
   ]
  },
  {
   "cell_type": "code",
   "execution_count": 23,
   "metadata": {
    "tags": []
   },
   "outputs": [
    {
     "data": {
      "text/html": [
       "<div>\n",
       "<style scoped>\n",
       "    .dataframe tbody tr th:only-of-type {\n",
       "        vertical-align: middle;\n",
       "    }\n",
       "\n",
       "    .dataframe tbody tr th {\n",
       "        vertical-align: top;\n",
       "    }\n",
       "\n",
       "    .dataframe thead th {\n",
       "        text-align: right;\n",
       "    }\n",
       "</style>\n",
       "<table border=\"1\" class=\"dataframe\">\n",
       "  <thead>\n",
       "    <tr style=\"text-align: right;\">\n",
       "      <th></th>\n",
       "      <th>city</th>\n",
       "      <th>age</th>\n",
       "      <th>job</th>\n",
       "    </tr>\n",
       "  </thead>\n",
       "  <tbody>\n",
       "    <tr>\n",
       "      <th>Maria</th>\n",
       "      <td>London</td>\n",
       "      <td>37</td>\n",
       "      <td>Artist</td>\n",
       "    </tr>\n",
       "    <tr>\n",
       "      <th>Lorenzo</th>\n",
       "      <td>Milan</td>\n",
       "      <td>28</td>\n",
       "      <td>Teacher</td>\n",
       "    </tr>\n",
       "    <tr>\n",
       "      <th>Oleg</th>\n",
       "      <td>Canberra</td>\n",
       "      <td>31</td>\n",
       "      <td>Chef</td>\n",
       "    </tr>\n",
       "    <tr>\n",
       "      <th>Hans</th>\n",
       "      <td>Calgary</td>\n",
       "      <td>80</td>\n",
       "      <td>Artist</td>\n",
       "    </tr>\n",
       "    <tr>\n",
       "      <th>Mark</th>\n",
       "      <td>Milan</td>\n",
       "      <td>55</td>\n",
       "      <td>Manager</td>\n",
       "    </tr>\n",
       "    <tr>\n",
       "      <th>Alex</th>\n",
       "      <td>Krakow</td>\n",
       "      <td>35</td>\n",
       "      <td>Chef</td>\n",
       "    </tr>\n",
       "    <tr>\n",
       "      <th>Julia</th>\n",
       "      <td>Murmansk</td>\n",
       "      <td>43</td>\n",
       "      <td>Engineer</td>\n",
       "    </tr>\n",
       "    <tr>\n",
       "      <th>Alice</th>\n",
       "      <td>NY</td>\n",
       "      <td>36</td>\n",
       "      <td>Engineer</td>\n",
       "    </tr>\n",
       "    <tr>\n",
       "      <th>Alice</th>\n",
       "      <td>NY</td>\n",
       "      <td>36</td>\n",
       "      <td>Engineer</td>\n",
       "    </tr>\n",
       "  </tbody>\n",
       "</table>\n",
       "</div>"
      ],
      "text/plain": [
       "             city  age       job\n",
       "Maria      London   37    Artist\n",
       "Lorenzo     Milan   28   Teacher\n",
       "Oleg     Canberra   31      Chef\n",
       "Hans      Calgary   80    Artist\n",
       "Mark        Milan   55   Manager\n",
       "Alex       Krakow   35      Chef\n",
       "Julia    Murmansk   43  Engineer\n",
       "Alice          NY   36  Engineer\n",
       "Alice          NY   36  Engineer"
      ]
     },
     "execution_count": 23,
     "metadata": {},
     "output_type": "execute_result"
    }
   ],
   "source": [
    "# # шаг2 добавим новый df к старому\n",
    "postcards = postcards.append(df)\n",
    "postcards\n",
    "\n",
    "# что будет, если запустить .append() несколько раз?"
   ]
  },
  {
   "cell_type": "markdown",
   "metadata": {
    "colab_type": "text",
    "id": "ZESKs95y71Wy"
   },
   "source": [
    "### что делать, если добавились ненужные строки? "
   ]
  },
  {
   "cell_type": "markdown",
   "metadata": {},
   "source": [
    "Если есть дубликаты уже существующих строк, понадобится метод ```.drop_duplicates()```"
   ]
  },
  {
   "cell_type": "code",
   "execution_count": 24,
   "metadata": {
    "colab": {},
    "colab_type": "code",
    "id": "WB8VMk5P6Kmy",
    "tags": []
   },
   "outputs": [
    {
     "data": {
      "text/html": [
       "<div>\n",
       "<style scoped>\n",
       "    .dataframe tbody tr th:only-of-type {\n",
       "        vertical-align: middle;\n",
       "    }\n",
       "\n",
       "    .dataframe tbody tr th {\n",
       "        vertical-align: top;\n",
       "    }\n",
       "\n",
       "    .dataframe thead th {\n",
       "        text-align: right;\n",
       "    }\n",
       "</style>\n",
       "<table border=\"1\" class=\"dataframe\">\n",
       "  <thead>\n",
       "    <tr style=\"text-align: right;\">\n",
       "      <th></th>\n",
       "      <th>city</th>\n",
       "      <th>age</th>\n",
       "      <th>job</th>\n",
       "    </tr>\n",
       "  </thead>\n",
       "  <tbody>\n",
       "    <tr>\n",
       "      <th>Maria</th>\n",
       "      <td>London</td>\n",
       "      <td>37</td>\n",
       "      <td>Artist</td>\n",
       "    </tr>\n",
       "    <tr>\n",
       "      <th>Lorenzo</th>\n",
       "      <td>Milan</td>\n",
       "      <td>28</td>\n",
       "      <td>Teacher</td>\n",
       "    </tr>\n",
       "    <tr>\n",
       "      <th>Oleg</th>\n",
       "      <td>Canberra</td>\n",
       "      <td>31</td>\n",
       "      <td>Chef</td>\n",
       "    </tr>\n",
       "    <tr>\n",
       "      <th>Hans</th>\n",
       "      <td>Calgary</td>\n",
       "      <td>80</td>\n",
       "      <td>Artist</td>\n",
       "    </tr>\n",
       "    <tr>\n",
       "      <th>Mark</th>\n",
       "      <td>Milan</td>\n",
       "      <td>55</td>\n",
       "      <td>Manager</td>\n",
       "    </tr>\n",
       "    <tr>\n",
       "      <th>Alex</th>\n",
       "      <td>Krakow</td>\n",
       "      <td>35</td>\n",
       "      <td>Chef</td>\n",
       "    </tr>\n",
       "    <tr>\n",
       "      <th>Julia</th>\n",
       "      <td>Murmansk</td>\n",
       "      <td>43</td>\n",
       "      <td>Engineer</td>\n",
       "    </tr>\n",
       "    <tr>\n",
       "      <th>Alice</th>\n",
       "      <td>NY</td>\n",
       "      <td>36</td>\n",
       "      <td>Engineer</td>\n",
       "    </tr>\n",
       "  </tbody>\n",
       "</table>\n",
       "</div>"
      ],
      "text/plain": [
       "             city  age       job\n",
       "Maria      London   37    Artist\n",
       "Lorenzo     Milan   28   Teacher\n",
       "Oleg     Canberra   31      Chef\n",
       "Hans      Calgary   80    Artist\n",
       "Mark        Milan   55   Manager\n",
       "Alex       Krakow   35      Chef\n",
       "Julia    Murmansk   43  Engineer\n",
       "Alice          NY   36  Engineer"
      ]
     },
     "execution_count": 24,
     "metadata": {},
     "output_type": "execute_result"
    }
   ],
   "source": [
    "postcards.drop_duplicates(inplace=True)\n",
    "postcards"
   ]
  },
  {
   "cell_type": "markdown",
   "metadata": {},
   "source": [
    "Если удалить нужно любую строку или столбец, понадобится метод ```.drop()``` \n",
    "- axis=0 если нужно удалить строку\n",
    "- axis=1 если нужно удалить колонку"
   ]
  },
  {
   "cell_type": "code",
   "execution_count": null,
   "metadata": {
    "tags": []
   },
   "outputs": [],
   "source": [
    "postcards.drop(\"Mark\",axis=0)"
   ]
  },
  {
   "cell_type": "code",
   "execution_count": null,
   "metadata": {},
   "outputs": [],
   "source": [
    "postcards.drop(\"city\", axis=1)"
   ]
  },
  {
   "cell_type": "markdown",
   "metadata": {},
   "source": [
    "Чтобы изменения вошли в силу, реультат выражения нужно сохранить в переменную, либо добавить аргумент inplace=True "
   ]
  },
  {
   "cell_type": "code",
   "execution_count": null,
   "metadata": {},
   "outputs": [],
   "source": [
    "postcards = postcards.drop(\"city\", axis=1)"
   ]
  },
  {
   "cell_type": "markdown",
   "metadata": {
    "colab_type": "text",
    "id": "ZDTCdrD6uhXl"
   },
   "source": [
    "### Сохранение датафрейма в файл "
   ]
  },
  {
   "cell_type": "code",
   "execution_count": 25,
   "metadata": {
    "colab": {},
    "colab_type": "code",
    "id": "u-tvDza7T8ad"
   },
   "outputs": [],
   "source": [
    "# сохраним в .csv файл\n",
    "\n",
    "postcards.to_csv('../data/postcards.csv') "
   ]
  },
  {
   "cell_type": "markdown",
   "metadata": {
    "colab_type": "text",
    "id": "IgtDJfqPKYiu"
   },
   "source": [
    "### Фильтры и прочие манипуляции"
   ]
  },
  {
   "cell_type": "code",
   "execution_count": 26,
   "metadata": {},
   "outputs": [
    {
     "data": {
      "text/html": [
       "<div>\n",
       "<style scoped>\n",
       "    .dataframe tbody tr th:only-of-type {\n",
       "        vertical-align: middle;\n",
       "    }\n",
       "\n",
       "    .dataframe tbody tr th {\n",
       "        vertical-align: top;\n",
       "    }\n",
       "\n",
       "    .dataframe thead th {\n",
       "        text-align: right;\n",
       "    }\n",
       "</style>\n",
       "<table border=\"1\" class=\"dataframe\">\n",
       "  <thead>\n",
       "    <tr style=\"text-align: right;\">\n",
       "      <th></th>\n",
       "      <th>city</th>\n",
       "      <th>age</th>\n",
       "      <th>job</th>\n",
       "    </tr>\n",
       "  </thead>\n",
       "  <tbody>\n",
       "    <tr>\n",
       "      <th>Oleg</th>\n",
       "      <td>Canberra</td>\n",
       "      <td>31</td>\n",
       "      <td>Chef</td>\n",
       "    </tr>\n",
       "    <tr>\n",
       "      <th>Alex</th>\n",
       "      <td>Krakow</td>\n",
       "      <td>35</td>\n",
       "      <td>Chef</td>\n",
       "    </tr>\n",
       "  </tbody>\n",
       "</table>\n",
       "</div>"
      ],
      "text/plain": [
       "          city  age   job\n",
       "Oleg  Canberra   31  Chef\n",
       "Alex    Krakow   35  Chef"
      ]
     },
     "execution_count": 26,
     "metadata": {},
     "output_type": "execute_result"
    }
   ],
   "source": [
    "# посмотрим, кто работает шеф-поваром\n",
    "# квадратные скобки создают подвыборку из датасета, удовлетворяющую условиям\n",
    "\n",
    "postcards[ postcards[\"job\"] ==\"Chef\" ]"
   ]
  },
  {
   "cell_type": "code",
   "execution_count": 27,
   "metadata": {
    "colab": {
     "base_uri": "https://localhost:8080/",
     "height": 106
    },
    "colab_type": "code",
    "id": "IZas6n3v3KOH",
    "outputId": "e4276eef-f417-4785-fa6a-24e99e84feac",
    "tags": []
   },
   "outputs": [
    {
     "data": {
      "text/html": [
       "<div>\n",
       "<style scoped>\n",
       "    .dataframe tbody tr th:only-of-type {\n",
       "        vertical-align: middle;\n",
       "    }\n",
       "\n",
       "    .dataframe tbody tr th {\n",
       "        vertical-align: top;\n",
       "    }\n",
       "\n",
       "    .dataframe thead th {\n",
       "        text-align: right;\n",
       "    }\n",
       "</style>\n",
       "<table border=\"1\" class=\"dataframe\">\n",
       "  <thead>\n",
       "    <tr style=\"text-align: right;\">\n",
       "      <th></th>\n",
       "      <th>city</th>\n",
       "      <th>age</th>\n",
       "      <th>job</th>\n",
       "    </tr>\n",
       "  </thead>\n",
       "  <tbody>\n",
       "    <tr>\n",
       "      <th>Hans</th>\n",
       "      <td>Calgary</td>\n",
       "      <td>80</td>\n",
       "      <td>Artist</td>\n",
       "    </tr>\n",
       "    <tr>\n",
       "      <th>Mark</th>\n",
       "      <td>Milan</td>\n",
       "      <td>55</td>\n",
       "      <td>Manager</td>\n",
       "    </tr>\n",
       "    <tr>\n",
       "      <th>Julia</th>\n",
       "      <td>Murmansk</td>\n",
       "      <td>43</td>\n",
       "      <td>Engineer</td>\n",
       "    </tr>\n",
       "  </tbody>\n",
       "</table>\n",
       "</div>"
      ],
      "text/plain": [
       "           city  age       job\n",
       "Hans    Calgary   80    Artist\n",
       "Mark      Milan   55   Manager\n",
       "Julia  Murmansk   43  Engineer"
      ]
     },
     "execution_count": 27,
     "metadata": {},
     "output_type": "execute_result"
    }
   ],
   "source": [
    "# поищем всех людей старше 40\n",
    "\n",
    "postcards[ postcards[\"age\"] >40 ]"
   ]
  },
  {
   "cell_type": "code",
   "execution_count": 28,
   "metadata": {
    "colab": {
     "base_uri": "https://localhost:8080/",
     "height": 136
    },
    "colab_type": "code",
    "id": "hGKBGJL13r_K",
    "outputId": "ea05a1cf-4bde-4ae1-d5aa-8cfdc239dd19"
   },
   "outputs": [
    {
     "data": {
      "text/html": [
       "<div>\n",
       "<style scoped>\n",
       "    .dataframe tbody tr th:only-of-type {\n",
       "        vertical-align: middle;\n",
       "    }\n",
       "\n",
       "    .dataframe tbody tr th {\n",
       "        vertical-align: top;\n",
       "    }\n",
       "\n",
       "    .dataframe thead th {\n",
       "        text-align: right;\n",
       "    }\n",
       "</style>\n",
       "<table border=\"1\" class=\"dataframe\">\n",
       "  <thead>\n",
       "    <tr style=\"text-align: right;\">\n",
       "      <th></th>\n",
       "      <th>city</th>\n",
       "      <th>age</th>\n",
       "      <th>job</th>\n",
       "    </tr>\n",
       "  </thead>\n",
       "  <tbody>\n",
       "    <tr>\n",
       "      <th>Maria</th>\n",
       "      <td>London</td>\n",
       "      <td>37</td>\n",
       "      <td>Artist</td>\n",
       "    </tr>\n",
       "    <tr>\n",
       "      <th>Hans</th>\n",
       "      <td>Calgary</td>\n",
       "      <td>80</td>\n",
       "      <td>Artist</td>\n",
       "    </tr>\n",
       "    <tr>\n",
       "      <th>Mark</th>\n",
       "      <td>Milan</td>\n",
       "      <td>55</td>\n",
       "      <td>Manager</td>\n",
       "    </tr>\n",
       "    <tr>\n",
       "      <th>Julia</th>\n",
       "      <td>Murmansk</td>\n",
       "      <td>43</td>\n",
       "      <td>Engineer</td>\n",
       "    </tr>\n",
       "    <tr>\n",
       "      <th>Alice</th>\n",
       "      <td>NY</td>\n",
       "      <td>36</td>\n",
       "      <td>Engineer</td>\n",
       "    </tr>\n",
       "  </tbody>\n",
       "</table>\n",
       "</div>"
      ],
      "text/plain": [
       "           city  age       job\n",
       "Maria    London   37    Artist\n",
       "Hans    Calgary   80    Artist\n",
       "Mark      Milan   55   Manager\n",
       "Julia  Murmansk   43  Engineer\n",
       "Alice        NY   36  Engineer"
      ]
     },
     "execution_count": 28,
     "metadata": {},
     "output_type": "execute_result"
    }
   ],
   "source": [
    "# условия можно компоновать логическими операторами\n",
    "# синтаксис: df[(условие1) оператор (условие2)]\n",
    "\n",
    "#ищем, кто старше 30 и не работает шеф-поваром\n",
    "\n",
    "\n",
    "postcards[ (postcards[\"age\"]>30) & (postcards[\"job\"]!=\"Chef\")]"
   ]
  },
  {
   "cell_type": "markdown",
   "metadata": {},
   "source": [
    "Над значениями в колонках можно производить различные операции:\n",
    "* например, арифметические (если данные количественные):"
   ]
  },
  {
   "cell_type": "code",
   "execution_count": 30,
   "metadata": {
    "colab": {
     "base_uri": "https://localhost:8080/",
     "height": 34
    },
    "colab_type": "code",
    "id": "pqvjgc9-4c5G",
    "outputId": "2d94487f-67a1-412f-80ad-e28d8662bc78"
   },
   "outputs": [
    {
     "data": {
      "text/plain": [
       "43.125"
      ]
     },
     "execution_count": 30,
     "metadata": {},
     "output_type": "execute_result"
    }
   ],
   "source": [
    "# postcards.age.sum()\n",
    "postcards.age.mean()\n",
    "# postcards.age.min()\n",
    "# postcards.age.max()"
   ]
  },
  {
   "cell_type": "markdown",
   "metadata": {},
   "source": [
    "Если данные категориальные, можно искать уникальные значения, упорядочивать по алфавиту и тд"
   ]
  },
  {
   "cell_type": "code",
   "execution_count": 33,
   "metadata": {},
   "outputs": [
    {
     "data": {
      "text/plain": [
       "Artist      2\n",
       "Chef        2\n",
       "Engineer    2\n",
       "Teacher     1\n",
       "Manager     1\n",
       "Name: job, dtype: int64"
      ]
     },
     "execution_count": 33,
     "metadata": {},
     "output_type": "execute_result"
    }
   ],
   "source": [
    "# postcards.job.values # все значения \n",
    "postcards.job.value_counts() # число повторов\n",
    "# postcards.job.sort_values(ascending=False) # сортировка\n",
    "\n",
    "# postcards.job.unique() # все уникальные в колонке\n",
    "# postcards.job.nunique() # сколько уникальных в колонке"
   ]
  },
  {
   "cell_type": "code",
   "execution_count": null,
   "metadata": {},
   "outputs": [],
   "source": []
  }
 ],
 "metadata": {
  "colab": {
   "collapsed_sections": [
    "ZESKs95y71Wy"
   ],
   "include_colab_link": true,
   "name": "18Nov2019.ipynb",
   "provenance": []
  },
  "kernelspec": {
   "display_name": "Python 3 (ipykernel)",
   "language": "python",
   "name": "python3"
  },
  "language_info": {
   "codemirror_mode": {
    "name": "ipython",
    "version": 3
   },
   "file_extension": ".py",
   "mimetype": "text/x-python",
   "name": "python",
   "nbconvert_exporter": "python",
   "pygments_lexer": "ipython3",
   "version": "3.10.0"
  }
 },
 "nbformat": 4,
 "nbformat_minor": 4
}
