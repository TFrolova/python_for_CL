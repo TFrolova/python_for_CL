{
  "cells": [
    {
      "cell_type": "markdown",
      "metadata": {
        "id": "FJQqpfFoYWLc"
      },
      "source": [
        "сегодня мы поговорим о синтаксических анализаторах: посмотрим на их функции в деталях на примере UDPipe, но в конце тетрадки вспомним про другие(обзорно) и попробуем на парктике"
      ]
    },
    {
      "cell_type": "markdown",
      "metadata": {
        "id": "IJ3Cu1K-TwLW"
      },
      "source": [
        "## UDPipe"
      ]
    },
    {
      "cell_type": "code",
      "execution_count": 1,
      "metadata": {
        "colab": {
          "base_uri": "https://localhost:8080/"
        },
        "id": "jNPHxwb0j0OE",
        "outputId": "d8f4f94b-8ca2-4ea9-b7e2-5e6faf9f14db"
      },
      "outputs": [
        {
          "output_type": "stream",
          "name": "stdout",
          "text": [
            "Collecting ufal.udpipe\n",
            "  Downloading ufal.udpipe-1.2.0.3.tar.gz (304 kB)\n",
            "\u001b[?25l\r\u001b[K     |█                               | 10 kB 18.8 MB/s eta 0:00:01\r\u001b[K     |██▏                             | 20 kB 11.3 MB/s eta 0:00:01\r\u001b[K     |███▎                            | 30 kB 9.7 MB/s eta 0:00:01\r\u001b[K     |████▎                           | 40 kB 8.6 MB/s eta 0:00:01\r\u001b[K     |█████▍                          | 51 kB 5.5 MB/s eta 0:00:01\r\u001b[K     |██████▌                         | 61 kB 5.3 MB/s eta 0:00:01\r\u001b[K     |███████▌                        | 71 kB 5.2 MB/s eta 0:00:01\r\u001b[K     |████████▋                       | 81 kB 5.7 MB/s eta 0:00:01\r\u001b[K     |█████████▊                      | 92 kB 6.1 MB/s eta 0:00:01\r\u001b[K     |██████████▊                     | 102 kB 5.2 MB/s eta 0:00:01\r\u001b[K     |███████████▉                    | 112 kB 5.2 MB/s eta 0:00:01\r\u001b[K     |█████████████                   | 122 kB 5.2 MB/s eta 0:00:01\r\u001b[K     |██████████████                  | 133 kB 5.2 MB/s eta 0:00:01\r\u001b[K     |███████████████                 | 143 kB 5.2 MB/s eta 0:00:01\r\u001b[K     |████████████████▏               | 153 kB 5.2 MB/s eta 0:00:01\r\u001b[K     |█████████████████▎              | 163 kB 5.2 MB/s eta 0:00:01\r\u001b[K     |██████████████████▎             | 174 kB 5.2 MB/s eta 0:00:01\r\u001b[K     |███████████████████▍            | 184 kB 5.2 MB/s eta 0:00:01\r\u001b[K     |████████████████████▌           | 194 kB 5.2 MB/s eta 0:00:01\r\u001b[K     |█████████████████████▌          | 204 kB 5.2 MB/s eta 0:00:01\r\u001b[K     |██████████████████████▋         | 215 kB 5.2 MB/s eta 0:00:01\r\u001b[K     |███████████████████████▊        | 225 kB 5.2 MB/s eta 0:00:01\r\u001b[K     |████████████████████████▉       | 235 kB 5.2 MB/s eta 0:00:01\r\u001b[K     |█████████████████████████▉      | 245 kB 5.2 MB/s eta 0:00:01\r\u001b[K     |███████████████████████████     | 256 kB 5.2 MB/s eta 0:00:01\r\u001b[K     |████████████████████████████    | 266 kB 5.2 MB/s eta 0:00:01\r\u001b[K     |█████████████████████████████   | 276 kB 5.2 MB/s eta 0:00:01\r\u001b[K     |██████████████████████████████▏ | 286 kB 5.2 MB/s eta 0:00:01\r\u001b[K     |███████████████████████████████▎| 296 kB 5.2 MB/s eta 0:00:01\r\u001b[K     |████████████████████████████████| 304 kB 5.2 MB/s \n",
            "\u001b[?25hBuilding wheels for collected packages: ufal.udpipe\n",
            "  Building wheel for ufal.udpipe (setup.py) ... \u001b[?25l\u001b[?25hdone\n",
            "  Created wheel for ufal.udpipe: filename=ufal.udpipe-1.2.0.3-cp37-cp37m-linux_x86_64.whl size=5626631 sha256=f8a60786017739f2f7d3e5f2199ba1486d1d5fe1688440e8c1aa53cd22041eb3\n",
            "  Stored in directory: /root/.cache/pip/wheels/b8/b5/8e/3da091629a21ce2d10bf90759d0cb034ba10a5cf7a01e83d64\n",
            "Successfully built ufal.udpipe\n",
            "Installing collected packages: ufal.udpipe\n",
            "Successfully installed ufal.udpipe-1.2.0.3\n"
          ]
        }
      ],
      "source": [
        "# ячейка может выполняться долго, это нормально\n",
        "! pip3 install ufal.udpipe"
      ]
    },
    {
      "cell_type": "markdown",
      "metadata": {
        "id": "iiOE0dwxhtv_"
      },
      "source": [
        "UDPipe - это готовый пайплайн* для токенизации, частеречной разметки, лемматизации и синтаксической разметки. Работает с файлами в формате [CoNLL-U](https://universaldependencies.org/format.html#syntactic-annotation)\n",
        "<br>\n",
        "Есть как готовые [предобученные модели](https://github.com/jwijffels/udpipe.models.ud.2.0/tree/master/inst/udpipe-ud-2.0-170801), так и возможность обучить модель на своих данных (но это небыстро). \n",
        "\n",
        "Использует теги [UD-формата](https://universaldependencies.org/)\n",
        "______\n",
        "*пайплайном называют цепочку из нескольких инструментов, используемых один за другим (pipeline, от англ. pipe- труба)*"
      ]
    },
    {
      "cell_type": "markdown",
      "metadata": {
        "id": "Oocef9uLdgHC"
      },
      "source": [
        "поля в CoNLL-U формате:\n",
        "\n",
        "* ID: Word index, integer starting at 1 for each new sentence; may be a range for multiword tokens; may be a decimal number for empty nodes (decimal numbers can be lower than 1 but must be greater than 0)\n",
        "* FORM: Word form or punctuation symbol.\n",
        "* LEMMA: Lemma or stem of word form.\n",
        "* UPOS: Universal part-of-speech tag.\n",
        "* XPOS: Language-specific part-of-speech tag; underscore if not available.\n",
        "* FEATS: List of morphological features from the universal feature inventory or from a defined language-specific extension; underscore if not available.\n",
        "* HEAD: Head of the current word, which is either a value of ID or zero (0).\n",
        "* DEPREL: Universal dependency relation to the HEAD (root iff HEAD = 0) or a defined language-specific subtype of one.\n",
        "* DEPS: Enhanced dependency graph in the form of a list of head-deprel pairs.\n",
        "* MISC: Any other annotation."
      ]
    },
    {
      "cell_type": "markdown",
      "metadata": {
        "id": "fcqE7FFbitjo"
      },
      "source": [
        "Так выглядит текст в CoNLL-U формате\n",
        "\n",
        "    1\tМэр\t_\tNOUN\t_\tAnimacy=Anim|Case=Nom|Gender=Masc|Number=Sing|fPOS=NOUN++\t2\tnsubj\t_\t_\n",
        "    2\tоткрыл\t_\tVERB\t_\tAspect=Perf|Gender=Masc|Mood=Ind|Number=Sing|Tense=Past|VerbForm=Fin|Voice=Act|fPOS=VERB++\t0\tROOT\t_\t_\n",
        "    3\tновый\t_\tADJ\t_\tAnimacy=Inan|Case=Acc|Degree=Pos|Gender=Masc|Number=Sing|fPOS=ADJ++\t4\tamod\t_\t_\n",
        "    4\tпарк\t_\tNOUN\t_\tAnimacy=Inan|Case=Acc|Gender=Masc|Number=Sing|fPOS=NOUN++\t2\tdobj\t_\t_\n",
        "    5\tи\t_\tCONJ\t_\tfPOS=CONJ++\t4\tcc\t_\t_\n",
        "    6\tдетскую\t_\tADJ\t_\tCase=Acc|Degree=Pos|Gender=Fem|Number=Sing|fPOS=ADJ++\t7\tamod\t_\t_\n",
        "    7\tплощадку\t_\tNOUN\t_\tAnimacy=Inan|Case=Acc|Gender=Fem|Number=Sing|fPOS=NOUN++\t4\tconj\t_\t_\n",
        "    8\t.\t_\tPUNCT\t.\tfPOS=PUNCT++.\t2\tpunct\t_\t_"
      ]
    },
    {
      "cell_type": "markdown",
      "metadata": {
        "id": "6TzMKf_jT1Fm"
      },
      "source": [
        "**всякое про UDPipe**\n",
        "* [общая информация](http://ufal.mff.cuni.cz/udpipe#language_models)\n",
        "* [мануал](http://ufal.mff.cuni.cz/udpipe/users-manual)\n",
        "* [репозиторий](https://github.com/ufal/udpipe)\n",
        "* [статья с описанием архитектуры](http://ufal.mff.cuni.cz/~straka/papers/2017-conll_udpipe.pdf)\n",
        "* [онлайн-версия](http://lindat.mff.cuni.cz/services/udpipe/)\n",
        "\n"
      ]
    },
    {
      "cell_type": "markdown",
      "metadata": {
        "id": "apvl_B96VdkP"
      },
      "source": [
        "### шаг1: установка библиотеки\n",
        "полная информация о разных способах установки UDPipe [здесь](http://ufal.mff.cuni.cz/udpipe/install)\n",
        "<br>\n",
        "Мы попробуем простую, установив UPpipe как специальную библиотеку для питона, через ```pip3```\n",
        "\n",
        "[документация для питонской библиотеки](https://pypi.org/project/ufal.udpipe/)"
      ]
    },
    {
      "cell_type": "code",
      "source": [
        "from ufal.udpipe import Model, Pipeline #импортируем нужные части из модуля"
      ],
      "metadata": {
        "id": "UDVV8Bouqog1"
      },
      "execution_count": 2,
      "outputs": []
    },
    {
      "cell_type": "markdown",
      "metadata": {
        "id": "79x1gVQd9tD7"
      },
      "source": [
        "### шаг2: выбор модели\n",
        "\n",
        "Чтобы работать с UDPipe, нужно выбрать модель: уже готовую, или обучить на своих данных.\n",
        "<br>\n",
        "Мы сегодня не будем обучать новые модели (это слишком долго), а используем [готовую модель для русского](https://github.com/jwijffels/udpipe.models.ud.2.0/blob/master/inst/udpipe-ud-2.0-170801/russian-ud-2.0-170801.udpipe)"
      ]
    },
    {
      "cell_type": "code",
      "execution_count": 3,
      "metadata": {
        "colab": {
          "base_uri": "https://localhost:8080/"
        },
        "id": "1LIzqOtHAybz",
        "outputId": "8f9a6900-0b0a-4aee-f76e-fef24616f688"
      },
      "outputs": [
        {
          "output_type": "stream",
          "name": "stdout",
          "text": [
            "--2022-01-19 16:40:17--  https://github.com/jwijffels/udpipe.models.ud.2.0/blob/master/inst/udpipe-ud-2.0-170801/russian-ud-2.0-170801.udpipe?raw=true\n",
            "Resolving github.com (github.com)... 140.82.113.4\n",
            "Connecting to github.com (github.com)|140.82.113.4|:443... connected.\n",
            "HTTP request sent, awaiting response... 302 Found\n",
            "Location: https://github.com/jwijffels/udpipe.models.ud.2.0/raw/master/inst/udpipe-ud-2.0-170801/russian-ud-2.0-170801.udpipe [following]\n",
            "--2022-01-19 16:40:17--  https://github.com/jwijffels/udpipe.models.ud.2.0/raw/master/inst/udpipe-ud-2.0-170801/russian-ud-2.0-170801.udpipe\n",
            "Reusing existing connection to github.com:443.\n",
            "HTTP request sent, awaiting response... 302 Found\n",
            "Location: https://raw.githubusercontent.com/jwijffels/udpipe.models.ud.2.0/master/inst/udpipe-ud-2.0-170801/russian-ud-2.0-170801.udpipe [following]\n",
            "--2022-01-19 16:40:17--  https://raw.githubusercontent.com/jwijffels/udpipe.models.ud.2.0/master/inst/udpipe-ud-2.0-170801/russian-ud-2.0-170801.udpipe\n",
            "Resolving raw.githubusercontent.com (raw.githubusercontent.com)... 185.199.110.133, 185.199.111.133, 185.199.108.133, ...\n",
            "Connecting to raw.githubusercontent.com (raw.githubusercontent.com)|185.199.110.133|:443... connected.\n",
            "HTTP request sent, awaiting response... 200 OK\n",
            "Length: 13265262 (13M) [application/octet-stream]\n",
            "Saving to: ‘model_ru.udpipe’\n",
            "\n",
            "model_ru.udpipe     100%[===================>]  12.65M  --.-KB/s    in 0.1s    \n",
            "\n",
            "2022-01-19 16:40:18 (121 MB/s) - ‘model_ru.udpipe’ saved [13265262/13265262]\n",
            "\n"
          ]
        }
      ],
      "source": [
        "# сохраняем в переменную UDPIPE_MODEL_FN модель, которую загружаем из репозитория UD \n",
        "UDPIPE_MODEL_FN = \"model_ru.udpipe\"\n",
        "!wget -O {UDPIPE_MODEL_FN} 'https://github.com/jwijffels/udpipe.models.ud.2.0/blob/master/inst/udpipe-ud-2.0-170801/russian-ud-2.0-170801.udpipe?raw=true'"
      ]
    },
    {
      "cell_type": "code",
      "execution_count": 4,
      "metadata": {
        "id": "4sZzFw689tEf"
      },
      "outputs": [],
      "source": [
        "model = Model.load(UDPIPE_MODEL_FN) # загружаем модель, сохраняем в переменную model"
      ]
    },
    {
      "cell_type": "markdown",
      "metadata": {
        "id": "P6ce0Xf6dgHH"
      },
      "source": [
        " ### шаг3 текст"
      ]
    },
    {
      "cell_type": "code",
      "execution_count": 7,
      "metadata": {
        "colab": {
          "base_uri": "https://localhost:8080/"
        },
        "id": "upWpD0TX9tHR",
        "outputId": "d8ccff30-6df3-4572-a961-df4d598e0dae"
      },
      "outputs": [
        {
          "output_type": "stream",
          "name": "stdout",
          "text": [
            "Мэр открыл новый парк и детскую площадку. Это освещалось в новостях.\n"
          ]
        }
      ],
      "source": [
        "sent = \"Мэр открыл новый парк и детскую площадку. Это освещалось в новостях.\"\n",
        "print(sent)"
      ]
    },
    {
      "cell_type": "markdown",
      "metadata": {
        "id": "IJch2wMgi3Jd"
      },
      "source": [
        "### шаг4: анализируем"
      ]
    },
    {
      "cell_type": "code",
      "execution_count": 8,
      "metadata": {
        "id": "XzvlAv_RdgHI"
      },
      "outputs": [],
      "source": [
        "pipeline = Pipeline(model, 'generic_tokenizer', '','','')\n",
        "\n",
        "#функции нужно 5 аргументов,но нам важны только 2\n",
        "#сохраняем в переменную результат токенизации"
      ]
    },
    {
      "cell_type": "code",
      "execution_count": 11,
      "metadata": {
        "colab": {
          "base_uri": "https://localhost:8080/"
        },
        "id": "34aHBI1Y6yDr",
        "outputId": "1af9101d-3e18-47f5-fde4-590804a6c51a"
      },
      "outputs": [
        {
          "output_type": "stream",
          "name": "stdout",
          "text": [
            "# newdoc\n",
            "# newpar\n",
            "# sent_id = 1\n",
            "# text = Мэр открыл новый парк и детскую площадку.\n",
            "1\tМэр\tМЭР\tNOUN\tNN\tAnimacy=Anim|Case=Nom|Gender=Masc|Number=Sing\t2\tnsubj\t_\t_\n",
            "2\tоткрыл\tОТКРЫТЬ\tVERB\tVBC\tAspect=Perf|Gender=Masc|Mood=Ind|Number=Sing|Tense=Past|VerbForm=Fin\t0\troot\t_\t_\n",
            "3\tновый\tНОВЫЙ\tADJ\tJJL\tAnimacy=Inan|Case=Acc|Gender=Masc|Number=Sing\t4\tamod\t_\t_\n",
            "4\tпарк\tПАРК\tNOUN\tNN\tAnimacy=Inan|Case=Acc|Gender=Masc|Number=Sing\t2\tobj\t_\t_\n",
            "5\tи\tИ\tCCONJ\tCC\t_\t7\tcc\t_\t_\n",
            "6\tдетскую\tдетскую\tADJ\tJJL\tAnimacy=Inan|Case=Acc|Gender=Fem|Number=Sing\t7\tamod\t_\t_\n",
            "7\tплощадку\tПЛОЩАДКА\tNOUN\tNN\tAnimacy=Inan|Case=Acc|Gender=Fem|Number=Sing\t4\tconj\t_\tSpaceAfter=No\n",
            "8\t.\t.\tPUNCT\t.\t_\t2\tpunct\t_\t_\n",
            "\n",
            "# sent_id = 2\n",
            "# text = Это освещалось в новостях.\n",
            "1\tЭто\tЭТОТ\tPRON\tDT\tAnimacy=Inan|Case=Nom|Gender=Neut|Number=Sing\t2\tnsubj\t_\t_\n",
            "2\tосвещалось\tосвещалось\tVERB\tVBC\tAspect=Imp|Gender=Neut|Mood=Ind|Number=Sing|Tense=Past|VerbForm=Fin|Voice=Mid\t0\troot\t_\t_\n",
            "3\tв\tВ\tADP\tIN\t_\t4\tcase\t_\t_\n",
            "4\tновостях\tновостях\tNOUN\tNN\tAnimacy=Inan|Case=Loc|Gender=Fem|Number=Plur\t2\tobl\t_\tSpaceAfter=No\n",
            "5\t.\t.\tPUNCT\t.\t_\t2\tpunct\t_\tSpacesAfter=\\n\n",
            "\n",
            "\n"
          ]
        }
      ],
      "source": [
        "# ud_res = []\n",
        "\n",
        "parsed = pipeline.process(sent) # функция process сделает синтаксический анализ\n",
        "\n",
        "print(parsed) # печатаем результат\n"
      ]
    },
    {
      "cell_type": "markdown",
      "metadata": {
        "id": "W2_EPaHpqrmH"
      },
      "source": [
        "дефолтный теггинг иногда может быть ошибочным: теггер предсказывает морфологические свойства токена по последним четырем символам каждого слова. Он генерирует гипотезы относительно части речи и морфологических тегов этого слова, а затем отбирает лучший вариант. \n",
        "<br>\n",
        "*(можно улучшать качество, например, используя сторонний морфоанализатор и токенизатор, но это тема для отдельной пары, сегодня мы попробуем \"ванильный\" UDPipe)*"
      ]
    },
    {
      "cell_type": "markdown",
      "metadata": {
        "collapsed": true,
        "id": "ffOK_R3a9tHL"
      },
      "source": [
        "# способы применения\n",
        "Зачем нужен синтаксический парсинг? \n",
        "\n",
        "Например, с помощью него можно находить в предложениях тройки субъект-глагол-объект, которые можно использовать для извлечения информации из текста."
      ]
    },
    {
      "cell_type": "markdown",
      "metadata": {
        "id": "C2TajWLrJBUh"
      },
      "source": [
        "**визуализация**"
      ]
    },
    {
      "cell_type": "markdown",
      "metadata": {
        "id": "ciX5remQJAkY"
      },
      "source": [
        "В nltk есть DependencyGraph, который умеет рисовать деревья (и ещё многое другое). Для того, чтобы визуализация работала корректно, ему нужна зависимость: graphviz."
      ]
    },
    {
      "cell_type": "code",
      "execution_count": 12,
      "metadata": {
        "colab": {
          "base_uri": "https://localhost:8080/"
        },
        "id": "htYoQ77NI-q-",
        "outputId": "af4d0063-eadc-482c-a717-96185b816d51"
      },
      "outputs": [
        {
          "output_type": "stream",
          "name": "stdout",
          "text": [
            "Requirement already satisfied: graphviz in /usr/local/lib/python3.7/dist-packages (0.10.1)\n",
            "Requirement already satisfied: pydot in /usr/local/lib/python3.7/dist-packages (1.3.0)\n",
            "Requirement already satisfied: pyparsing>=2.1.4 in /usr/local/lib/python3.7/dist-packages (from pydot) (3.0.6)\n"
          ]
        }
      ],
      "source": [
        "! pip3 install graphviz\n",
        "! pip3 install pydot \n",
        "\n",
        "# ! brew install graphviz #команда установки для MacOS"
      ]
    },
    {
      "cell_type": "markdown",
      "metadata": {
        "id": "IoK9FdctdgHJ"
      },
      "source": [
        "Бибилиотеку grapghviz нужно поставить не только через pip, но и добавить в систему ([см этот тред](https://stackoverflow.com/questions/35064304/runtimeerror-make-sure-the-graphviz-executables-are-on-your-systems-path-aft))\n",
        "\n",
        "Если возникает ошибка, попробуйте следующие команды:\n",
        "* (Win) запустите в ячейке код  \n",
        "```import os\n",
        "os.environ[\"PATH\"] += os.pathsep + 'D:/Program Files (x86)/Graphviz2.38/bin/' ```\n",
        "\n",
        "* (Mac) в терминале: ```brew install graphviz ``` (проверьте, что у Вас стоит [homebrew](https://brew.sh/))\n",
        "\n",
        "* (Linux) в терминале: ```sudo apt-get install graphviz```"
      ]
    },
    {
      "cell_type": "code",
      "execution_count": 13,
      "metadata": {
        "id": "YHUFaDxzI99o"
      },
      "outputs": [],
      "source": [
        "from nltk import DependencyGraph, Tree \n",
        "# части библиотеки, которые нарисуют нам деревья зависимостей"
      ]
    },
    {
      "cell_type": "markdown",
      "metadata": {
        "id": "grvoBcepI9PJ"
      },
      "source": [
        "Для построения дерева нам нужно превратить файл в conllu-формате в список.\n",
        "<br> \n",
        "Еще нужно сделать тег ROOT в верхнем регистре, иначе он не находится 🤷‍♂️\n",
        "\n",
        "Создадим функцию, которую попробуем на результате UDPipe"
      ]
    },
    {
      "cell_type": "code",
      "source": [
        "print(parsed)"
      ],
      "metadata": {
        "id": "QWdw_FdwWNiB"
      },
      "execution_count": null,
      "outputs": []
    },
    {
      "cell_type": "code",
      "execution_count": 21,
      "metadata": {
        "id": "-I8xJDF9KVKZ"
      },
      "outputs": [],
      "source": [
        "def conllu_to_list(parser_result): \n",
        "# аргумент - это conllu-файл, который получили в результате синтаксического анализа \n",
        "    sents = []\n",
        "    for sent in parser_result.split('\\n\\n'):\n",
        "\n",
        "        # убираем коменты\n",
        "        sent = '\\n'.join([line for line in sent.split('\\n') if not line.startswith('#')])\n",
        "        \n",
        "        # заменяем регистр для root\n",
        "        sent = sent.replace('\\troot\\t', '\\tROOT\\t')\n",
        "        sents.append(sent)\n",
        "    return sents"
      ]
    },
    {
      "cell_type": "markdown",
      "metadata": {
        "id": "j4KQhGTXQhbc"
      },
      "source": [
        "## для UDPipe"
      ]
    },
    {
      "cell_type": "code",
      "execution_count": 24,
      "metadata": {
        "colab": {
          "base_uri": "https://localhost:8080/",
          "height": 70
        },
        "id": "fDB1dSkDLtSw",
        "outputId": "c573b797-8490-471c-e1d9-27fd93682aea"
      },
      "outputs": [
        {
          "output_type": "execute_result",
          "data": {
            "application/vnd.google.colaboratory.intrinsic+json": {
              "type": "string"
            },
            "text/plain": [
              "'1\\tЭто\\tЭТОТ\\tPRON\\tDT\\tAnimacy=Inan|Case=Nom|Gender=Neut|Number=Sing\\t2\\tnsubj\\t_\\t_\\n2\\tосвещалось\\tосвещалось\\tVERB\\tVBC\\tAspect=Imp|Gender=Neut|Mood=Ind|Number=Sing|Tense=Past|VerbForm=Fin|Voice=Mid\\t0\\tROOT\\t_\\t_\\n3\\tв\\tВ\\tADP\\tIN\\t_\\t4\\tcase\\t_\\t_\\n4\\tновостях\\tновостях\\tNOUN\\tNN\\tAnimacy=Inan|Case=Loc|Gender=Fem|Number=Plur\\t2\\tobl\\t_\\tSpaceAfter=No\\n5\\t.\\t.\\tPUNCT\\t.\\t_\\t2\\tpunct\\t_\\tSpacesAfter=\\\\n'"
            ]
          },
          "metadata": {},
          "execution_count": 24
        }
      ],
      "source": [
        "# вызовем для результата UDPipe:\n",
        "\n",
        "ud = conllu_to_list(parsed) # превратили в лист\n",
        "\n",
        "ud[1]"
      ]
    },
    {
      "cell_type": "markdown",
      "source": [
        "Сейчас нарисуем дерево зависимости [с помощью модуля NLTK](https://www.nltk.org/api/nltk.parse.dependencygraph.html)\n",
        "\n"
      ],
      "metadata": {
        "id": "2Bozgpajw86d"
      }
    },
    {
      "cell_type": "code",
      "execution_count": 25,
      "metadata": {
        "colab": {
          "base_uri": "https://localhost:8080/",
          "height": 544
        },
        "id": "QEomREGuI7dT",
        "outputId": "0707dee2-c3f7-430c-eb1e-7797f4c5c061"
      },
      "outputs": [
        {
          "output_type": "execute_result",
          "data": {
            "text/plain": [
              "<DependencyGraph with 9 nodes>"
            ],
            "image/svg+xml": "<?xml version=\"1.0\" encoding=\"UTF-8\" standalone=\"no\"?>\n<!DOCTYPE svg PUBLIC \"-//W3C//DTD SVG 1.1//EN\"\n \"http://www.w3.org/Graphics/SVG/1.1/DTD/svg11.dtd\">\n<!-- Generated by graphviz version 2.40.1 (20161225.0304)\n -->\n<!-- Title: G Pages: 1 -->\n<svg width=\"274pt\" height=\"392pt\"\n viewBox=\"0.00 0.00 274.00 392.00\" xmlns=\"http://www.w3.org/2000/svg\" xmlns:xlink=\"http://www.w3.org/1999/xlink\">\n<g id=\"graph0\" class=\"graph\" transform=\"scale(1 1) rotate(0) translate(4 388)\">\n<title>G</title>\n<polygon fill=\"#ffffff\" stroke=\"transparent\" points=\"-4,4 -4,-388 270,-388 270,4 -4,4\"/>\n<!-- 0 -->\n<g id=\"node1\" class=\"node\">\n<title>0</title>\n<text text-anchor=\"middle\" x=\"113.5\" y=\"-362.3\" font-family=\"Times,serif\" font-size=\"14.00\" fill=\"#000000\">0 (None)</text>\n</g>\n<!-- 2 -->\n<g id=\"node2\" class=\"node\">\n<title>2</title>\n<text text-anchor=\"middle\" x=\"113.5\" y=\"-275.3\" font-family=\"Times,serif\" font-size=\"14.00\" fill=\"#000000\">2 (открыл)</text>\n</g>\n<!-- 0&#45;&gt;2 -->\n<g id=\"edge1\" class=\"edge\">\n<title>0&#45;&gt;2</title>\n<path fill=\"none\" stroke=\"#000000\" d=\"M113.5,-347.9735C113.5,-336.1918 113.5,-320.5607 113.5,-307.1581\"/>\n<polygon fill=\"#000000\" stroke=\"#000000\" points=\"117.0001,-307.0033 113.5,-297.0034 110.0001,-307.0034 117.0001,-307.0033\"/>\n<text text-anchor=\"middle\" x=\"133.5\" y=\"-318.8\" font-family=\"Times,serif\" font-size=\"14.00\" fill=\"#000000\">ROOT</text>\n</g>\n<!-- 1 -->\n<g id=\"node3\" class=\"node\">\n<title>1</title>\n<text text-anchor=\"middle\" x=\"31.5\" y=\"-188.3\" font-family=\"Times,serif\" font-size=\"14.00\" fill=\"#000000\">1 (Мэр)</text>\n</g>\n<!-- 2&#45;&gt;1 -->\n<g id=\"edge2\" class=\"edge\">\n<title>2&#45;&gt;1</title>\n<path fill=\"none\" stroke=\"#000000\" d=\"M95.0013,-260.8658C89.3245,-255.2038 83.1,-248.8961 77.5,-243 69.7838,-234.8758 61.5344,-225.8443 54.1829,-217.6661\"/>\n<polygon fill=\"#000000\" stroke=\"#000000\" points=\"56.7313,-215.2653 47.4564,-210.1441 51.5134,-219.9315 56.7313,-215.2653\"/>\n<text text-anchor=\"middle\" x=\"93.5\" y=\"-231.8\" font-family=\"Times,serif\" font-size=\"14.00\" fill=\"#000000\">nsubj</text>\n</g>\n<!-- 4 -->\n<g id=\"node4\" class=\"node\">\n<title>4</title>\n<text text-anchor=\"middle\" x=\"113.5\" y=\"-188.3\" font-family=\"Times,serif\" font-size=\"14.00\" fill=\"#000000\">4 (парк)</text>\n</g>\n<!-- 2&#45;&gt;4 -->\n<g id=\"edge3\" class=\"edge\">\n<title>2&#45;&gt;4</title>\n<path fill=\"none\" stroke=\"#000000\" d=\"M113.5,-260.9735C113.5,-249.1918 113.5,-233.5607 113.5,-220.1581\"/>\n<polygon fill=\"#000000\" stroke=\"#000000\" points=\"117.0001,-220.0033 113.5,-210.0034 110.0001,-220.0034 117.0001,-220.0033\"/>\n<text text-anchor=\"middle\" x=\"123\" y=\"-231.8\" font-family=\"Times,serif\" font-size=\"14.00\" fill=\"#000000\">obj</text>\n</g>\n<!-- 8 -->\n<g id=\"node5\" class=\"node\">\n<title>8</title>\n<text text-anchor=\"middle\" x=\"191.5\" y=\"-188.3\" font-family=\"Times,serif\" font-size=\"14.00\" fill=\"#000000\">8 (.)</text>\n</g>\n<!-- 2&#45;&gt;8 -->\n<g id=\"edge4\" class=\"edge\">\n<title>2&#45;&gt;8</title>\n<path fill=\"none\" stroke=\"#000000\" d=\"M129.6617,-260.9735C140.8521,-248.4919 155.9159,-231.6899 168.374,-217.7944\"/>\n<polygon fill=\"#000000\" stroke=\"#000000\" points=\"171.2896,-219.7855 175.3591,-210.0034 166.0776,-215.1127 171.2896,-219.7855\"/>\n<text text-anchor=\"middle\" x=\"174\" y=\"-231.8\" font-family=\"Times,serif\" font-size=\"14.00\" fill=\"#000000\">punct</text>\n</g>\n<!-- 3 -->\n<g id=\"node6\" class=\"node\">\n<title>3</title>\n<text text-anchor=\"middle\" x=\"73.5\" y=\"-101.3\" font-family=\"Times,serif\" font-size=\"14.00\" fill=\"#000000\">3 (новый)</text>\n</g>\n<!-- 4&#45;&gt;3 -->\n<g id=\"edge5\" class=\"edge\">\n<title>4&#45;&gt;3</title>\n<path fill=\"none\" stroke=\"#000000\" d=\"M105.212,-173.9735C99.6878,-161.9585 92.323,-145.9401 86.0814,-132.3646\"/>\n<polygon fill=\"#000000\" stroke=\"#000000\" points=\"89.1348,-130.627 81.7774,-123.0034 82.7748,-133.5512 89.1348,-130.627\"/>\n<text text-anchor=\"middle\" x=\"113\" y=\"-144.8\" font-family=\"Times,serif\" font-size=\"14.00\" fill=\"#000000\">amod</text>\n</g>\n<!-- 7 -->\n<g id=\"node7\" class=\"node\">\n<title>7</title>\n<text text-anchor=\"middle\" x=\"178.5\" y=\"-101.3\" font-family=\"Times,serif\" font-size=\"14.00\" fill=\"#000000\">7 (площадку)</text>\n</g>\n<!-- 4&#45;&gt;7 -->\n<g id=\"edge6\" class=\"edge\">\n<title>4&#45;&gt;7</title>\n<path fill=\"none\" stroke=\"#000000\" d=\"M126.968,-173.9735C136.2063,-161.6085 148.6123,-145.0036 158.9367,-131.1847\"/>\n<polygon fill=\"#000000\" stroke=\"#000000\" points=\"161.8678,-133.1093 165.0492,-123.0034 156.26,-128.9196 161.8678,-133.1093\"/>\n<text text-anchor=\"middle\" x=\"163\" y=\"-144.8\" font-family=\"Times,serif\" font-size=\"14.00\" fill=\"#000000\">conj</text>\n</g>\n<!-- 5 -->\n<g id=\"node8\" class=\"node\">\n<title>5</title>\n<text text-anchor=\"middle\" x=\"133.5\" y=\"-14.3\" font-family=\"Times,serif\" font-size=\"14.00\" fill=\"#000000\">5 (и)</text>\n</g>\n<!-- 7&#45;&gt;5 -->\n<g id=\"edge7\" class=\"edge\">\n<title>7&#45;&gt;5</title>\n<path fill=\"none\" stroke=\"#000000\" d=\"M169.176,-86.9735C162.9009,-74.8418 154.5148,-58.6287 147.4499,-44.9698\"/>\n<polygon fill=\"#000000\" stroke=\"#000000\" points=\"150.5151,-43.2776 142.8121,-36.0034 144.2976,-46.4935 150.5151,-43.2776\"/>\n<text text-anchor=\"middle\" x=\"166\" y=\"-57.8\" font-family=\"Times,serif\" font-size=\"14.00\" fill=\"#000000\">cc</text>\n</g>\n<!-- 6 -->\n<g id=\"node9\" class=\"node\">\n<title>6</title>\n<text text-anchor=\"middle\" x=\"222.5\" y=\"-14.3\" font-family=\"Times,serif\" font-size=\"14.00\" fill=\"#000000\">6 (детскую)</text>\n</g>\n<!-- 7&#45;&gt;6 -->\n<g id=\"edge8\" class=\"edge\">\n<title>7&#45;&gt;6</title>\n<path fill=\"none\" stroke=\"#000000\" d=\"M187.6168,-86.9735C193.7524,-74.8418 201.9522,-58.6287 208.8601,-44.9698\"/>\n<polygon fill=\"#000000\" stroke=\"#000000\" points=\"212.005,-46.5066 213.3949,-36.0034 205.7584,-43.3474 212.005,-46.5066\"/>\n<text text-anchor=\"middle\" x=\"220\" y=\"-57.8\" font-family=\"Times,serif\" font-size=\"14.00\" fill=\"#000000\">amod</text>\n</g>\n</g>\n</svg>\n"
          },
          "metadata": {},
          "execution_count": 25
        }
      ],
      "source": [
        "ud_graph = DependencyGraph(tree_str=ud[0])\n",
        "ud_graph"
      ]
    },
    {
      "cell_type": "markdown",
      "metadata": {
        "id": "cuDV5KNTdgHK"
      },
      "source": [
        "а вот еще один способ визуализации дерева"
      ]
    },
    {
      "cell_type": "code",
      "source": [
        "ud_tree = ud_graph.tree()\n",
        "print(ud_tree.pretty_print())"
      ],
      "metadata": {
        "colab": {
          "base_uri": "https://localhost:8080/"
        },
        "id": "4_ZTsqS3yZRw",
        "outputId": "04c892cd-272b-4cbe-bcc1-5b830ea0d321"
      },
      "execution_count": 26,
      "outputs": [
        {
          "output_type": "stream",
          "name": "stdout",
          "text": [
            "        открыл                      \n",
            "  ________|_____                     \n",
            " |   |         парк                 \n",
            " |   |     _____|______              \n",
            " |   |    |         площадку        \n",
            " |   |    |      ______|________     \n",
            "Мэр  .  новый   и            детскую\n",
            "\n",
            "None\n"
          ]
        }
      ]
    },
    {
      "cell_type": "code",
      "execution_count": 31,
      "metadata": {
        "colab": {
          "base_uri": "https://localhost:8080/"
        },
        "id": "zIG1or5OI6ck",
        "outputId": "82ab9875-3e08-42de-8256-ed4a1d0d4ae9"
      },
      "outputs": [
        {
          "output_type": "execute_result",
          "data": {
            "text/plain": [
              "[(('открыл', 'VERB'), 'nsubj', ('Мэр', 'NOUN')),\n",
              " (('открыл', 'VERB'), 'obj', ('парк', 'NOUN')),\n",
              " (('парк', 'NOUN'), 'amod', ('новый', 'ADJ')),\n",
              " (('парк', 'NOUN'), 'conj', ('площадку', 'NOUN')),\n",
              " (('площадку', 'NOUN'), 'cc', ('и', 'CCONJ')),\n",
              " (('площадку', 'NOUN'), 'amod', ('детскую', 'ADJ')),\n",
              " (('открыл', 'VERB'), 'punct', ('.', 'PUNCT'))]"
            ]
          },
          "metadata": {},
          "execution_count": 31
        }
      ],
      "source": [
        "# посмотрим, на что вообще можно разбить предложение\n",
        "list(ud_graph.triples())"
      ]
    },
    {
      "cell_type": "markdown",
      "metadata": {
        "id": "mw-xsbbRReBb"
      },
      "source": [
        "**Тройки глагол-объект-субьект:**"
      ]
    },
    {
      "cell_type": "markdown",
      "metadata": {
        "id": "ZbyRYI1NReBd"
      },
      "source": [
        "Предположим, нам нужно вытащить только ту тройку, которая расскажет о предикате (сказуемом), субъекте (подлежащем) и объекте (дополнении)."
      ]
    },
    {
      "cell_type": "code",
      "execution_count": 39,
      "metadata": {
        "id": "eiNpunK7ReBe"
      },
      "outputs": [],
      "source": [
        "def get_sov(UD_parsed_text, elem): # зададим функцию, которая будет вытаскивать нужную тройку\n",
        "     \n",
        "    graph = DependencyGraph(tree_str=text[elem])\n",
        "\n",
        "    sov = {} # пустой словарь, будем в него складывать ключи и значения\n",
        "    \n",
        "    for triple in graph.triples(): # для каждого триплета из всех\n",
        "        if triple[0][1] == 'VERB': # если тег первого элемента - VERB\n",
        "            sov[triple[0][0]] = {'subj':'','obj':''}\n",
        "            \n",
        "    for triple in graph.triples(): # почему\n",
        "        \n",
        "        if triple[1] == 'nsubj': # если второй элемент -- существительное\n",
        "            if triple[0][1] == 'VERB': # при этом если тег первого элемента - VERB\n",
        "                sov[triple[0][0]]['subj']  = triple[2][0] # сохраняем значение \n",
        "        elif triple[1] == 'obj': # соответственно для дополнения\n",
        "            if triple[0][1] == 'VERB':\n",
        "                sov[triple[0][0]]['obj'] = triple[2][0]\n",
        "    return sov"
      ]
    },
    {
      "cell_type": "code",
      "source": [
        "get_sov(ud,0)\n",
        "\n",
        "\n",
        "print(ud[0])"
      ],
      "metadata": {
        "colab": {
          "base_uri": "https://localhost:8080/"
        },
        "id": "NrIRaa3PzeHM",
        "outputId": "a0ee2ba5-0535-40e7-f3ed-c758586c3e67"
      },
      "execution_count": 43,
      "outputs": [
        {
          "output_type": "stream",
          "name": "stdout",
          "text": [
            "1\tМэр\tМЭР\tNOUN\tNN\tAnimacy=Anim|Case=Nom|Gender=Masc|Number=Sing\t2\tnsubj\t_\t_\n",
            "2\tоткрыл\tОТКРЫТЬ\tVERB\tVBC\tAspect=Perf|Gender=Masc|Mood=Ind|Number=Sing|Tense=Past|VerbForm=Fin\t0\tROOT\t_\t_\n",
            "3\tновый\tНОВЫЙ\tADJ\tJJL\tAnimacy=Inan|Case=Acc|Gender=Masc|Number=Sing\t4\tamod\t_\t_\n",
            "4\tпарк\tПАРК\tNOUN\tNN\tAnimacy=Inan|Case=Acc|Gender=Masc|Number=Sing\t2\tobj\t_\t_\n",
            "5\tи\tИ\tCCONJ\tCC\t_\t7\tcc\t_\t_\n",
            "6\tдетскую\tдетскую\tADJ\tJJL\tAnimacy=Inan|Case=Acc|Gender=Fem|Number=Sing\t7\tamod\t_\t_\n",
            "7\tплощадку\tПЛОЩАДКА\tNOUN\tNN\tAnimacy=Inan|Case=Acc|Gender=Fem|Number=Sing\t4\tconj\t_\tSpaceAfter=No\n",
            "8\t.\t.\tPUNCT\t.\t_\t2\tpunct\t_\t_\n"
          ]
        }
      ]
    },
    {
      "cell_type": "markdown",
      "metadata": {
        "id": "2fhNcFP0zYYq"
      },
      "source": [
        "## идеи дальше:\n",
        "(на выбор)\n",
        "1. Выбрать текст (на русском), с которым было бы интересно поработать. Попробовать вытащить все тройки предикат-субъект-объект из выбранного текста, посмотреть на результат, проинтерпретировать\n",
        "2. Написать функцию,которая бы учитывала сложные сказуемые*(начинает уходить, устал думать)* как единый элемент (она похожа на функцию, которая собирает однородные дополнения, нам также нужно что-то сделать с тегами)\n",
        "3. попробовать предобученные модели для других языков\n",
        "4. Попробовать парсеры на предложениях с [синтаксической омонимией](https://github.com/sjut/DPO_Materials/blob/ff1341f1d82ca11a763e15d76601bd6898958323/%D0%9F%D1%80%D0%B0%D0%BA%D1%82%D0%B8%D1%87%D0%B5%D1%81%D0%BA%D0%B8%D0%B5%20%D0%B7%D0%B0%D0%BD%D1%8F%D1%82%D0%B8%D1%8F/%D1%81%D0%B8%D0%BD%D1%82_%D0%BD%D0%B5%D0%BE%D0%B4%D0%BD%D0%BE%D0%B7%D0%BD%D0%B0%D1%87%D0%BD%D0%BE%D1%81%D1%82%D1%8C.txt), проинтерпретировать результаты \n",
        "(для этого текст, который вы хотите анализировать, необходимо сохранить в переменную одним из удобных способов)"
      ]
    },
    {
      "cell_type": "markdown",
      "metadata": {
        "id": "v_ZO2RZM-7ZJ"
      },
      "source": [
        "# что есть еще? \n",
        "\n",
        "более немейнстримные парсеры"
      ]
    },
    {
      "cell_type": "markdown",
      "metadata": {
        "id": "HFcnKsN8dgHM"
      },
      "source": [
        "## DeepPavlov\n",
        "\n",
        "[ссылка на тетрадку с подробностями](https://github.com/nstsj/python_for_CL/blob/master/syntax_parsing/syntax_analysis_DeepPavlov.ipynb)\n"
      ]
    },
    {
      "cell_type": "markdown",
      "metadata": {
        "id": "pq6mKkYnV-nE"
      },
      "source": [
        "## SyntaxNet"
      ]
    },
    {
      "cell_type": "markdown",
      "metadata": {
        "id": "XhUfIPQ5ef8F"
      },
      "source": [
        "[SyntaxNet]((https://ai.googleblog.com/2016/05/announcing-syntaxnet-worlds-most.html)) — это гугловская библиотека для определения синтаксических связей (использует нейронную сеть на TensorFlow). Поддерживает 40 языков, в том числе  русский.\n"
      ]
    },
    {
      "cell_type": "markdown",
      "metadata": {
        "id": "mpzSzxbf_K2l"
      },
      "source": [
        "## Stanford Parser"
      ]
    },
    {
      "cell_type": "markdown",
      "metadata": {
        "id": "LK9TRxO5_OhV"
      },
      "source": [
        "* [о проекте](https://nlp.stanford.edu/software/stanford-dependencies.shtml#Languages)\n",
        "* [о парсере](https://nlp.stanford.edu/software/lex-parser.html)\n",
        "* [питонская обертка](http://projects.csail.mit.edu/spatial/Stanford_Parser)"
      ]
    },
    {
      "cell_type": "markdown",
      "metadata": {
        "id": "aIysPR4DdgHN"
      },
      "source": [
        "## SpaCy\n",
        "\n",
        "библиотека для различных NLP-задач от (токенизации до NER и др), в том числе умеет делать [синтаксический анализ предложения в грамматике зависимостей](https://spacy.io/usage/linguistic-features#dependency-parse)"
      ]
    },
    {
      "cell_type": "code",
      "execution_count": null,
      "metadata": {
        "id": "MvLaXdw5dgHN"
      },
      "outputs": [],
      "source": [
        ""
      ]
    }
  ],
  "metadata": {
    "colab": {
      "collapsed_sections": [],
      "machine_shape": "hm",
      "name": "syntactic_parsers.ipynb",
      "provenance": []
    },
    "kernelspec": {
      "display_name": "Python 3",
      "language": "python",
      "name": "python3"
    },
    "language_info": {
      "codemirror_mode": {
        "name": "ipython",
        "version": 3
      },
      "file_extension": ".py",
      "mimetype": "text/x-python",
      "name": "python",
      "nbconvert_exporter": "python",
      "pygments_lexer": "ipython3",
      "version": "3.8.2"
    }
  },
  "nbformat": 4,
  "nbformat_minor": 0
}